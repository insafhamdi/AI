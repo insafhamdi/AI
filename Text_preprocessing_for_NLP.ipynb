{
  "cells": [
    {
      "cell_type": "markdown",
      "id": "bb04fa67",
      "metadata": {
        "id": "bb04fa67"
      },
      "source": [
        "  \n",
        "  \n",
        "   # Chapter 3- PART I: Text preprocessing for NLP\n",
        "\n",
        "<img src=\"https://user-images.githubusercontent.com/7065401/55025843-7d99a280-4fe0-11e9-938a-4879d95c4130.png\"\n",
        "    style=\"width:150px; float: right; margin: 0 40px 40px 40px;\"></img>\n",
        "    \n",
        "<img src=\"https://www.searchenginejournal.com/wp-content/uploads/2020/08/an-introduction-to-natural-language-processing-with-python-for-seos-5f3519eeb8368-1520x800.webp\" style=\"width:300px; float: left; margin: 0 40px 40px 40px;\"></img>\n",
        "\n",
        "    \n",
        "\n",
        "\n",
        "![purple-divider](https://user-images.githubusercontent.com/7065401/52071927-c1cd7100-2562-11e9-908a-dde91ba14e59.png)"
      ]
    },
    {
      "cell_type": "markdown",
      "id": "5c00f4de",
      "metadata": {
        "id": "5c00f4de"
      },
      "source": [
        "# Part I: Standard preprocessing steps"
      ]
    },
    {
      "cell_type": "code",
      "execution_count": null,
      "id": "afe54897",
      "metadata": {
        "id": "afe54897"
      },
      "outputs": [],
      "source": [
        "import nltk"
      ]
    },
    {
      "cell_type": "code",
      "execution_count": null,
      "id": "7c1d6b3a",
      "metadata": {
        "id": "7c1d6b3a",
        "outputId": "8b67de34-7f53-4099-f9f6-033d256dd31c",
        "colab": {
          "base_uri": "https://localhost:8080/"
        }
      },
      "outputs": [
        {
          "output_type": "stream",
          "name": "stderr",
          "text": [
            "[nltk_data] Downloading collection 'book'\n",
            "[nltk_data]    | \n",
            "[nltk_data]    | Downloading package abc to /root/nltk_data...\n",
            "[nltk_data]    |   Unzipping corpora/abc.zip.\n",
            "[nltk_data]    | Downloading package brown to /root/nltk_data...\n",
            "[nltk_data]    |   Unzipping corpora/brown.zip.\n",
            "[nltk_data]    | Downloading package chat80 to /root/nltk_data...\n",
            "[nltk_data]    |   Unzipping corpora/chat80.zip.\n",
            "[nltk_data]    | Downloading package cmudict to /root/nltk_data...\n",
            "[nltk_data]    |   Unzipping corpora/cmudict.zip.\n",
            "[nltk_data]    | Downloading package conll2000 to /root/nltk_data...\n",
            "[nltk_data]    |   Unzipping corpora/conll2000.zip.\n",
            "[nltk_data]    | Downloading package conll2002 to /root/nltk_data...\n",
            "[nltk_data]    |   Unzipping corpora/conll2002.zip.\n",
            "[nltk_data]    | Downloading package dependency_treebank to\n",
            "[nltk_data]    |     /root/nltk_data...\n",
            "[nltk_data]    |   Unzipping corpora/dependency_treebank.zip.\n",
            "[nltk_data]    | Downloading package genesis to /root/nltk_data...\n",
            "[nltk_data]    |   Unzipping corpora/genesis.zip.\n",
            "[nltk_data]    | Downloading package gutenberg to /root/nltk_data...\n",
            "[nltk_data]    |   Unzipping corpora/gutenberg.zip.\n",
            "[nltk_data]    | Downloading package ieer to /root/nltk_data...\n",
            "[nltk_data]    |   Unzipping corpora/ieer.zip.\n",
            "[nltk_data]    | Downloading package inaugural to /root/nltk_data...\n",
            "[nltk_data]    |   Unzipping corpora/inaugural.zip.\n",
            "[nltk_data]    | Downloading package movie_reviews to\n",
            "[nltk_data]    |     /root/nltk_data...\n",
            "[nltk_data]    |   Unzipping corpora/movie_reviews.zip.\n",
            "[nltk_data]    | Downloading package nps_chat to /root/nltk_data...\n",
            "[nltk_data]    |   Unzipping corpora/nps_chat.zip.\n",
            "[nltk_data]    | Downloading package names to /root/nltk_data...\n",
            "[nltk_data]    |   Unzipping corpora/names.zip.\n",
            "[nltk_data]    | Downloading package ppattach to /root/nltk_data...\n",
            "[nltk_data]    |   Unzipping corpora/ppattach.zip.\n",
            "[nltk_data]    | Downloading package reuters to /root/nltk_data...\n",
            "[nltk_data]    | Downloading package senseval to /root/nltk_data...\n",
            "[nltk_data]    |   Unzipping corpora/senseval.zip.\n",
            "[nltk_data]    | Downloading package state_union to /root/nltk_data...\n",
            "[nltk_data]    |   Unzipping corpora/state_union.zip.\n",
            "[nltk_data]    | Downloading package stopwords to /root/nltk_data...\n",
            "[nltk_data]    |   Unzipping corpora/stopwords.zip.\n",
            "[nltk_data]    | Downloading package swadesh to /root/nltk_data...\n",
            "[nltk_data]    |   Unzipping corpora/swadesh.zip.\n",
            "[nltk_data]    | Downloading package timit to /root/nltk_data...\n",
            "[nltk_data]    |   Unzipping corpora/timit.zip.\n",
            "[nltk_data]    | Downloading package treebank to /root/nltk_data...\n",
            "[nltk_data]    |   Unzipping corpora/treebank.zip.\n",
            "[nltk_data]    | Downloading package toolbox to /root/nltk_data...\n",
            "[nltk_data]    |   Unzipping corpora/toolbox.zip.\n",
            "[nltk_data]    | Downloading package udhr to /root/nltk_data...\n",
            "[nltk_data]    |   Unzipping corpora/udhr.zip.\n",
            "[nltk_data]    | Downloading package udhr2 to /root/nltk_data...\n",
            "[nltk_data]    |   Unzipping corpora/udhr2.zip.\n",
            "[nltk_data]    | Downloading package unicode_samples to\n",
            "[nltk_data]    |     /root/nltk_data...\n",
            "[nltk_data]    |   Unzipping corpora/unicode_samples.zip.\n",
            "[nltk_data]    | Downloading package webtext to /root/nltk_data...\n",
            "[nltk_data]    |   Unzipping corpora/webtext.zip.\n",
            "[nltk_data]    | Downloading package wordnet to /root/nltk_data...\n",
            "[nltk_data]    | Downloading package wordnet_ic to /root/nltk_data...\n",
            "[nltk_data]    |   Unzipping corpora/wordnet_ic.zip.\n",
            "[nltk_data]    | Downloading package words to /root/nltk_data...\n",
            "[nltk_data]    |   Unzipping corpora/words.zip.\n",
            "[nltk_data]    | Downloading package maxent_treebank_pos_tagger to\n",
            "[nltk_data]    |     /root/nltk_data...\n",
            "[nltk_data]    |   Unzipping taggers/maxent_treebank_pos_tagger.zip.\n",
            "[nltk_data]    | Downloading package maxent_ne_chunker to\n",
            "[nltk_data]    |     /root/nltk_data...\n",
            "[nltk_data]    |   Unzipping chunkers/maxent_ne_chunker.zip.\n",
            "[nltk_data]    | Downloading package universal_tagset to\n",
            "[nltk_data]    |     /root/nltk_data...\n",
            "[nltk_data]    |   Unzipping taggers/universal_tagset.zip.\n",
            "[nltk_data]    | Downloading package punkt to /root/nltk_data...\n",
            "[nltk_data]    |   Unzipping tokenizers/punkt.zip.\n",
            "[nltk_data]    | Downloading package book_grammars to\n",
            "[nltk_data]    |     /root/nltk_data...\n",
            "[nltk_data]    |   Unzipping grammars/book_grammars.zip.\n",
            "[nltk_data]    | Downloading package city_database to\n",
            "[nltk_data]    |     /root/nltk_data...\n",
            "[nltk_data]    |   Unzipping corpora/city_database.zip.\n",
            "[nltk_data]    | Downloading package tagsets to /root/nltk_data...\n",
            "[nltk_data]    |   Unzipping help/tagsets.zip.\n",
            "[nltk_data]    | Downloading package panlex_swadesh to\n",
            "[nltk_data]    |     /root/nltk_data...\n",
            "[nltk_data]    | Downloading package averaged_perceptron_tagger to\n",
            "[nltk_data]    |     /root/nltk_data...\n",
            "[nltk_data]    |   Unzipping taggers/averaged_perceptron_tagger.zip.\n",
            "[nltk_data]    | \n",
            "[nltk_data]  Done downloading collection book\n"
          ]
        },
        {
          "output_type": "execute_result",
          "data": {
            "text/plain": [
              "True"
            ]
          },
          "metadata": {},
          "execution_count": 3
        }
      ],
      "source": [
        "# download datasets and resources for NLP\n",
        "nltk.download(\"book\")\n"
      ]
    },
    {
      "cell_type": "code",
      "execution_count": null,
      "id": "c3efd095",
      "metadata": {
        "id": "c3efd095",
        "outputId": "6dc166e4-03f9-4166-dabe-ed3ab9724661",
        "colab": {
          "base_uri": "https://localhost:8080/"
        }
      },
      "outputs": [
        {
          "output_type": "stream",
          "name": "stdout",
          "text": [
            "*** Introductory Examples for the NLTK Book ***\n",
            "Loading text1, ..., text9 and sent1, ..., sent9\n",
            "Type the name of the text or sentence to view it.\n",
            "Type: 'texts()' or 'sents()' to list the materials.\n",
            "text1: Moby Dick by Herman Melville 1851\n",
            "text2: Sense and Sensibility by Jane Austen 1811\n",
            "text3: The Book of Genesis\n",
            "text4: Inaugural Address Corpus\n",
            "text5: Chat Corpus\n",
            "text6: Monty Python and the Holy Grail\n",
            "text7: Wall Street Journal\n",
            "text8: Personals Corpus\n",
            "text9: The Man Who Was Thursday by G . K . Chesterton 1908\n"
          ]
        },
        {
          "output_type": "execute_result",
          "data": {
            "text/plain": [
              "<Text: Sense and Sensibility by Jane Austen 1811>"
            ]
          },
          "metadata": {},
          "execution_count": 4
        }
      ],
      "source": [
        "# Task : import a book from the database\n",
        "from nltk.book import text2\n",
        "text2"
      ]
    },
    {
      "cell_type": "markdown",
      "id": "c0f0908a",
      "metadata": {
        "id": "c0f0908a"
      },
      "source": [
        "# 1- Basic Operations on Text Data"
      ]
    },
    {
      "cell_type": "code",
      "execution_count": null,
      "id": "66697561",
      "metadata": {
        "id": "66697561",
        "colab": {
          "base_uri": "https://localhost:8080/"
        },
        "outputId": "27ed8501-f905-4b1e-b687-398c217b7f2c"
      },
      "outputs": [
        {
          "output_type": "execute_result",
          "data": {
            "text/plain": [
              "141576"
            ]
          },
          "metadata": {},
          "execution_count": 5
        }
      ],
      "source": [
        "# get the length of the book (the number of words in the book)\n",
        "len(text2)\n"
      ]
    },
    {
      "cell_type": "code",
      "execution_count": null,
      "id": "cf829998",
      "metadata": {
        "id": "cf829998",
        "outputId": "99011323-72fa-42c4-c540-10f886a1f670",
        "colab": {
          "base_uri": "https://localhost:8080/"
        }
      },
      "outputs": [
        {
          "output_type": "execute_result",
          "data": {
            "text/plain": [
              "6833"
            ]
          },
          "metadata": {},
          "execution_count": 6
        }
      ],
      "source": [
        "# set() eliminate duplicates\n",
        "set(text2)\n",
        "# gives the length of unique words\n",
        "len(set(text2))"
      ]
    },
    {
      "cell_type": "code",
      "execution_count": null,
      "id": "f34d168f",
      "metadata": {
        "id": "f34d168f",
        "outputId": "3574cb43-7ad8-4b95-e448-dfedebb0ed83",
        "colab": {
          "base_uri": "https://localhost:8080/"
        }
      },
      "outputs": [
        {
          "output_type": "execute_result",
          "data": {
            "text/plain": [
              "684"
            ]
          },
          "metadata": {},
          "execution_count": 7
        }
      ],
      "source": [
        "# count()\n",
        "#Example\n",
        "#1- display text\n",
        "text2\n",
        "#2- How many times is the word \"the\" present in the text\n",
        "text2.count('the')\n",
        "\n",
        "#3- Case sensitive ?\n",
        "text2.count('Elinor')\n"
      ]
    },
    {
      "cell_type": "code",
      "execution_count": null,
      "id": "81abb8af",
      "metadata": {
        "id": "81abb8af"
      },
      "outputs": [],
      "source": [
        "# freq distribution\n",
        "# import class FreqDist\n",
        "from nltk import FreqDist\n",
        "\n",
        "# example: get the frequency distribution for all the words\n",
        "\n",
        "fd= FreqDist(text2)\n"
      ]
    },
    {
      "cell_type": "code",
      "execution_count": null,
      "id": "08f2a965",
      "metadata": {
        "id": "08f2a965",
        "outputId": "56eee895-5a83-4595-fdb8-f91f205c6341",
        "colab": {
          "base_uri": "https://localhost:8080/"
        }
      },
      "outputs": [
        {
          "output_type": "execute_result",
          "data": {
            "text/plain": [
              "[(',', 9397),\n",
              " ('to', 4063),\n",
              " ('.', 3975),\n",
              " ('the', 3861),\n",
              " ('of', 3565),\n",
              " ('and', 3350),\n",
              " ('her', 2436),\n",
              " ('a', 2043),\n",
              " ('I', 2004),\n",
              " ('in', 1904)]"
            ]
          },
          "metadata": {},
          "execution_count": 9
        }
      ],
      "source": [
        "# find the most common 10 words in the book\n",
        "fd.most_common(10)"
      ]
    },
    {
      "cell_type": "code",
      "execution_count": null,
      "id": "df9a64fe",
      "metadata": {
        "id": "df9a64fe",
        "outputId": "48a0762b-946c-497e-dab4-0f9b3eb1b8ff",
        "colab": {
          "base_uri": "https://localhost:8080/"
        }
      },
      "outputs": [
        {
          "output_type": "stream",
          "name": "stdout",
          "text": [
            "   ,   to    .  the   of  and  her    a    I   in \n",
            "9397 4063 3975 3861 3565 3350 2436 2043 2004 1904 \n"
          ]
        }
      ],
      "source": [
        "#display the frequency distribution of words or tokens in a more readable tabular format\n",
        "#plus organisé dans un tableau\n",
        "fd.tabulate(10)"
      ]
    },
    {
      "cell_type": "code",
      "execution_count": null,
      "id": "4fbfb83a",
      "metadata": {
        "id": "4fbfb83a",
        "outputId": "6a73302f-0706-49ed-af47-16ef6b4d5344",
        "colab": {
          "base_uri": "https://localhost:8080/"
        }
      },
      "outputs": [
        {
          "output_type": "execute_result",
          "data": {
            "text/plain": [
              "0.02366220263321467"
            ]
          },
          "metadata": {},
          "execution_count": 11
        }
      ],
      "source": [
        "# find the frequency of one particular word of your choice\n",
        "fd.freq('and')\n",
        "# This value represents the proportion of times the word 'and' appears relative to the total number of words in the corpus."
      ]
    },
    {
      "cell_type": "code",
      "execution_count": null,
      "id": "b97eecd4",
      "metadata": {
        "scrolled": true,
        "id": "b97eecd4",
        "outputId": "f2176753-65da-4896-dc87-98d03949fd37",
        "colab": {
          "base_uri": "https://localhost:8080/"
        }
      },
      "outputs": [
        {
          "output_type": "execute_result",
          "data": {
            "text/plain": [
              "3350"
            ]
          },
          "metadata": {},
          "execution_count": 12
        }
      ],
      "source": [
        "#get the count\n",
        "fd['and']"
      ]
    },
    {
      "cell_type": "code",
      "execution_count": null,
      "id": "adae809f",
      "metadata": {
        "id": "adae809f"
      },
      "outputs": [],
      "source": [
        "example_text = \"Amidst the bustling city streets, a lone traveler embarked on a journey of self-discovery. The sun painted the sky with hues of orange and pink as birds sang melodious tunes overhead. With each step, the traveler encountered new faces and stories, weaving a tapestry of experiences that would shape their destiny. As night fell, he found shelter under a starry canopy, dreaming of adventures yet to come.\""
      ]
    },
    {
      "cell_type": "code",
      "execution_count": null,
      "id": "c76b5f09",
      "metadata": {
        "scrolled": true,
        "id": "c76b5f09",
        "outputId": "74f7cf3b-06d6-4a9b-cce7-0af145f3b3b5",
        "colab": {
          "base_uri": "https://localhost:8080/"
        }
      },
      "outputs": [
        {
          "output_type": "execute_result",
          "data": {
            "text/plain": [
              "str"
            ]
          },
          "metadata": {},
          "execution_count": 14
        }
      ],
      "source": [
        "# get the type\n",
        "type(example_text)\n"
      ]
    },
    {
      "cell_type": "code",
      "execution_count": null,
      "id": "a981bdce",
      "metadata": {
        "id": "a981bdce",
        "outputId": "c2e6b9c9-5f9b-4ada-846d-321a111b20a5",
        "colab": {
          "base_uri": "https://localhost:8080/",
          "height": 186
        }
      },
      "outputs": [
        {
          "output_type": "execute_result",
          "data": {
            "text/plain": [
              "nltk.text.Text"
            ],
            "text/html": [
              "<div style=\"max-width:800px; border: 1px solid var(--colab-border-color);\"><style>\n",
              "      pre.function-repr-contents {\n",
              "        overflow-x: auto;\n",
              "        padding: 8px 12px;\n",
              "        max-height: 500px;\n",
              "      }\n",
              "\n",
              "      pre.function-repr-contents.function-repr-contents-collapsed {\n",
              "        cursor: pointer;\n",
              "        max-height: 100px;\n",
              "      }\n",
              "    </style>\n",
              "    <pre style=\"white-space: initial; background:\n",
              "         var(--colab-secondary-surface-color); padding: 8px 12px;\n",
              "         border-bottom: 1px solid var(--colab-border-color);\"><b>nltk.text.Text</b><br/>def __init__(tokens, name=None)</pre><pre class=\"function-repr-contents function-repr-contents-collapsed\" style=\"\"><a class=\"filepath\" style=\"display:none\" href=\"#\">/usr/local/lib/python3.10/dist-packages/nltk/text.py</a>A wrapper around a sequence of simple (string) tokens, which is\n",
              "intended to support initial exploration of texts (via the\n",
              "interactive console).  Its methods perform a variety of analyses\n",
              "on the text&#x27;s contexts (e.g., counting, concordancing, collocation\n",
              "discovery), and display the results.  If you wish to write a\n",
              "program which makes use of these analyses, then you should bypass\n",
              "the ``Text`` class, and use the appropriate analysis function or\n",
              "class directly instead.\n",
              "\n",
              "A ``Text`` is typically initialized from a given document or\n",
              "corpus.  E.g.:\n",
              "\n",
              "&gt;&gt;&gt; import nltk.corpus\n",
              "&gt;&gt;&gt; from nltk.text import Text\n",
              "&gt;&gt;&gt; moby = Text(nltk.corpus.gutenberg.words(&#x27;melville-moby_dick.txt&#x27;))</pre>\n",
              "      <script>\n",
              "      if (google.colab.kernel.accessAllowed && google.colab.files && google.colab.files.view) {\n",
              "        for (const element of document.querySelectorAll('.filepath')) {\n",
              "          element.style.display = 'block'\n",
              "          element.onclick = (event) => {\n",
              "            event.preventDefault();\n",
              "            event.stopPropagation();\n",
              "            google.colab.files.view(element.textContent, 308);\n",
              "          };\n",
              "        }\n",
              "      }\n",
              "      for (const element of document.querySelectorAll('.function-repr-contents')) {\n",
              "        element.onclick = (event) => {\n",
              "          event.preventDefault();\n",
              "          event.stopPropagation();\n",
              "          element.classList.toggle('function-repr-contents-collapsed');\n",
              "        };\n",
              "      }\n",
              "      </script>\n",
              "      </div>"
            ]
          },
          "metadata": {},
          "execution_count": 15
        }
      ],
      "source": [
        "#get the type of text2\n",
        "type(text2)"
      ]
    },
    {
      "cell_type": "code",
      "execution_count": null,
      "id": "101b73ce",
      "metadata": {
        "id": "101b73ce"
      },
      "outputs": [],
      "source": [
        "# nltk.text.text for analyzing and manipulating text corpora."
      ]
    },
    {
      "cell_type": "code",
      "execution_count": null,
      "id": "c870b16f",
      "metadata": {
        "id": "c870b16f"
      },
      "outputs": [],
      "source": [
        "# Task: convert str to nltk.text\n",
        "#NB: we will use nltk.Text that requires its input to be a list of tokens, not a single string."
      ]
    },
    {
      "cell_type": "code",
      "execution_count": null,
      "id": "954dbad4",
      "metadata": {
        "id": "954dbad4"
      },
      "outputs": [],
      "source": [
        "new_text=nltk.Text(example_text.split())"
      ]
    },
    {
      "cell_type": "code",
      "execution_count": null,
      "id": "b3f9f89c",
      "metadata": {
        "id": "b3f9f89c",
        "outputId": "39c9e1ac-8593-478b-f93c-95baa986bdbc",
        "colab": {
          "base_uri": "https://localhost:8080/",
          "height": 186
        }
      },
      "outputs": [
        {
          "output_type": "execute_result",
          "data": {
            "text/plain": [
              "nltk.text.Text"
            ],
            "text/html": [
              "<div style=\"max-width:800px; border: 1px solid var(--colab-border-color);\"><style>\n",
              "      pre.function-repr-contents {\n",
              "        overflow-x: auto;\n",
              "        padding: 8px 12px;\n",
              "        max-height: 500px;\n",
              "      }\n",
              "\n",
              "      pre.function-repr-contents.function-repr-contents-collapsed {\n",
              "        cursor: pointer;\n",
              "        max-height: 100px;\n",
              "      }\n",
              "    </style>\n",
              "    <pre style=\"white-space: initial; background:\n",
              "         var(--colab-secondary-surface-color); padding: 8px 12px;\n",
              "         border-bottom: 1px solid var(--colab-border-color);\"><b>nltk.text.Text</b><br/>def __init__(tokens, name=None)</pre><pre class=\"function-repr-contents function-repr-contents-collapsed\" style=\"\"><a class=\"filepath\" style=\"display:none\" href=\"#\">/usr/local/lib/python3.10/dist-packages/nltk/text.py</a>A wrapper around a sequence of simple (string) tokens, which is\n",
              "intended to support initial exploration of texts (via the\n",
              "interactive console).  Its methods perform a variety of analyses\n",
              "on the text&#x27;s contexts (e.g., counting, concordancing, collocation\n",
              "discovery), and display the results.  If you wish to write a\n",
              "program which makes use of these analyses, then you should bypass\n",
              "the ``Text`` class, and use the appropriate analysis function or\n",
              "class directly instead.\n",
              "\n",
              "A ``Text`` is typically initialized from a given document or\n",
              "corpus.  E.g.:\n",
              "\n",
              "&gt;&gt;&gt; import nltk.corpus\n",
              "&gt;&gt;&gt; from nltk.text import Text\n",
              "&gt;&gt;&gt; moby = Text(nltk.corpus.gutenberg.words(&#x27;melville-moby_dick.txt&#x27;))</pre>\n",
              "      <script>\n",
              "      if (google.colab.kernel.accessAllowed && google.colab.files && google.colab.files.view) {\n",
              "        for (const element of document.querySelectorAll('.filepath')) {\n",
              "          element.style.display = 'block'\n",
              "          element.onclick = (event) => {\n",
              "            event.preventDefault();\n",
              "            event.stopPropagation();\n",
              "            google.colab.files.view(element.textContent, 308);\n",
              "          };\n",
              "        }\n",
              "      }\n",
              "      for (const element of document.querySelectorAll('.function-repr-contents')) {\n",
              "        element.onclick = (event) => {\n",
              "          event.preventDefault();\n",
              "          event.stopPropagation();\n",
              "          element.classList.toggle('function-repr-contents-collapsed');\n",
              "        };\n",
              "      }\n",
              "      </script>\n",
              "      </div>"
            ]
          },
          "metadata": {},
          "execution_count": 19
        }
      ],
      "source": [
        "type(new_text)"
      ]
    },
    {
      "cell_type": "code",
      "source": [
        "fd_1= FreqDist(new_text)\n",
        "fd_1.most_common(10)"
      ],
      "metadata": {
        "colab": {
          "base_uri": "https://localhost:8080/"
        },
        "id": "J56vuo8XyGmH",
        "outputId": "31206376-588c-43ac-df05-b801e2d409ba"
      },
      "id": "J56vuo8XyGmH",
      "execution_count": null,
      "outputs": [
        {
          "output_type": "execute_result",
          "data": {
            "text/plain": [
              "[('a', 4),\n",
              " ('of', 4),\n",
              " ('the', 3),\n",
              " ('traveler', 2),\n",
              " ('and', 2),\n",
              " ('Amidst', 1),\n",
              " ('bustling', 1),\n",
              " ('city', 1),\n",
              " ('streets,', 1),\n",
              " ('lone', 1)]"
            ]
          },
          "metadata": {},
          "execution_count": 20
        }
      ]
    },
    {
      "cell_type": "code",
      "execution_count": null,
      "id": "fa37410a",
      "metadata": {
        "scrolled": true,
        "id": "fa37410a",
        "outputId": "6d69c299-0530-4462-889a-4d3710c28184",
        "colab": {
          "base_uri": "https://localhost:8080/",
          "height": 508
        }
      },
      "outputs": [
        {
          "output_type": "display_data",
          "data": {
            "text/plain": [
              "<Figure size 640x480 with 1 Axes>"
            ],
            "image/png": "[encoded data removed]"
          },
          "metadata": {}
        },
        {
          "output_type": "execute_result",
          "data": {
            "text/plain": [
              "<Axes: xlabel='Samples', ylabel='Counts'>"
            ]
          },
          "metadata": {},
          "execution_count": 21
        }
      ],
      "source": [
        "#Task: visualize the most frequent words in a text, based on their frequency distribution\n",
        "fd_1.plot(10) #10 le nbre de mots"
      ]
    },
    {
      "cell_type": "markdown",
      "id": "6e87622a",
      "metadata": {
        "id": "6e87622a"
      },
      "source": [
        "# 2- Text Preprocessing techniques"
      ]
    },
    {
      "cell_type": "markdown",
      "id": "aad8972e",
      "metadata": {
        "id": "aad8972e"
      },
      "source": [
        "## 2-1 Lowercasing"
      ]
    },
    {
      "cell_type": "code",
      "execution_count": null,
      "id": "77640305",
      "metadata": {
        "id": "77640305",
        "outputId": "d3f69049-c903-444d-abe5-b8b00c4eacdc",
        "colab": {
          "base_uri": "https://localhost:8080/",
          "height": 36
        }
      },
      "outputs": [
        {
          "output_type": "execute_result",
          "data": {
            "text/plain": [
              "'this is an example text'"
            ],
            "application/vnd.google.colaboratory.intrinsic+json": {
              "type": "string"
            }
          },
          "metadata": {},
          "execution_count": 22
        }
      ],
      "source": [
        "# lowercasing\n",
        "txt = \"This IS an example TEXT\"\n",
        "txt.lower()"
      ]
    },
    {
      "cell_type": "markdown",
      "id": "96d4497d",
      "metadata": {
        "id": "96d4497d"
      },
      "source": [
        "## 2-2 Tokenization"
      ]
    },
    {
      "cell_type": "markdown",
      "id": "3a91a6c1",
      "metadata": {
        "id": "3a91a6c1"
      },
      "source": [
        "Tokenization is the process of breaking down a text or a sequence of characters into smaller units called **tokens**.\n",
        "\n",
        "Tokens are the basic building blocks of text and can be individual words, punctuation marks, or other meaningful elements, depending on the specific task and language.\n",
        "\n",
        "Tokenization is a fundamental step in NLP and text analysis because it enables a computer to understand and process human language."
      ]
    },
    {
      "cell_type": "markdown",
      "id": "4f6fce40",
      "metadata": {
        "id": "4f6fce40"
      },
      "source": [
        "![image.png](attachment:image.png)"
      ]
    },
    {
      "cell_type": "markdown",
      "id": "d5f8a562",
      "metadata": {
        "id": "d5f8a562"
      },
      "source": [
        "There are different types of tokenization, including:\n",
        "\n",
        "   **1- Word Tokenization:** This is the most common type of tokenization, where the text is split into words or word-like units.\n",
        "\n",
        "*Example:* the sentence \"I love programming in Python\" can be tokenized into individual words: [\"I\", \"love\", \"programming\", \"in\", \"Python\"].\n",
        "\n",
        "   **2- Sentence Tokenization:** In this type, the text is divided into sentences or sentence-like units.\n",
        "\n",
        "*Example:* the paragraph \"NLP is fascinating. It involves text analysis and language understanding.\" can be tokenized into two sentences: [\"NLP is fascinating.\", \"It involves text analysis and language understanding.\"].\n",
        "\n",
        "   **3- Subword Tokenization:** This type of tokenization breaks words into smaller subword units, which can be useful for languages with complex morphology or for machine translation tasks.\n",
        "   \n",
        "*Example:* \"unhappiness\" can be tokenized into [\"un\", \"happiness\"].\n",
        "\n",
        "   **4- Character Tokenization:**  In character tokenization, each character in the text is treated as a separate token. This level of granularity is useful for some text processing tasks.\n",
        "   \n",
        "*Example:* the word \"apple\" can be tokenized into [\"a\", \"p\", \"p\", \"l\", \"e\"].\n",
        "\n",
        "   **5- Custom Tokenization:** Depending on the specific NLP task and requirements, custom tokenization methods can be created.\n",
        "\n",
        "The choice of tokenization method depends on the task and the language being processed.\n",
        "\n",
        "Effective tokenization is crucial for various NLP tasks, including text classification, named entity recognition, machine translation, and more, as it determines how the text is divided and processed by the NLP algorithms."
      ]
    },
    {
      "cell_type": "code",
      "execution_count": null,
      "id": "7b73956f",
      "metadata": {
        "id": "7b73956f"
      },
      "outputs": [],
      "source": [
        "txt_1= \"There once was a ship that put to sea. The name of the ship was the Billy O' Tea\""
      ]
    },
    {
      "cell_type": "markdown",
      "id": "af56c7ac",
      "metadata": {
        "id": "af56c7ac"
      },
      "source": [
        "#### Penn Treebank tokenizer:\n",
        "This tokenizer is based on the Penn Treebank Corpus, which is a large dataset of parsed and annotated English text. It is designed to handle a wide range of English text and tokenizes words based on common conventions in English text, such as splitting on spaces and punctuation marks.\n",
        "\n",
        "The default method for the **word_tokenize** function in NLTK (Natural Language Toolkit) uses the Penn Treebank tokenizer."
      ]
    },
    {
      "cell_type": "markdown",
      "id": "45071bdb",
      "metadata": {
        "id": "45071bdb"
      },
      "source": [
        "**Penn Treebank tokenization process follows these general steps:**\n",
        "\n",
        "**Whitespace Tokenization:** The text is initially split into tokens based on whitespace characters (spaces, tabs, and line breaks). This is a simple initial tokenization step.\n",
        "\n",
        "**Punctuation Handling:** After the initial whitespace tokenization, NLTK further processes the tokens by considering punctuation. Punctuation marks like periods, commas, and apostrophes are often handled in a way that separates them from adjacent words. For example, contractions like \"can't\" are split into two tokens: \"can\" and \"n't.\"\n",
        "\n",
        "**Special Cases:** NLTK may also handle specific cases, such as abbreviations or certain contractions, to ensure they are correctly tokenized. For example, \"U.S.A.\" may be tokenized as \"U.S.A\" instead of splitting it into \"U\" and \"S\" and \"A.\"\n"
      ]
    },
    {
      "cell_type": "code",
      "execution_count": null,
      "id": "d7ccfd97",
      "metadata": {
        "id": "d7ccfd97",
        "outputId": "662c7189-bb6c-44d0-855f-29489291167a",
        "colab": {
          "base_uri": "https://localhost:8080/"
        }
      },
      "outputs": [
        {
          "output_type": "stream",
          "name": "stdout",
          "text": [
            "['there', 'once', 'was', 'a', 'ship', 'that', 'put', 'to', 'sea', '.', 'the', 'name', 'of', 'the', 'ship', 'was', 'the', 'billy', 'o', \"'\", 'tea']\n"
          ]
        }
      ],
      "source": [
        "#lowercasing txt_1\n",
        "txt_1=txt_1.lower()\n",
        "#Perform word tokenization\n",
        "from nltk.tokenize import word_tokenize\n",
        "\n",
        "tokens = word_tokenize(txt_1)\n",
        "\n",
        "print(tokens)"
      ]
    },
    {
      "cell_type": "code",
      "execution_count": null,
      "id": "fdee2171",
      "metadata": {
        "id": "fdee2171",
        "outputId": "f83da935-ac1a-4af1-c0bd-a7bc453f3021",
        "colab": {
          "base_uri": "https://localhost:8080/"
        }
      },
      "outputs": [
        {
          "output_type": "stream",
          "name": "stdout",
          "text": [
            "['there once was a ship that put to sea.', \"the name of the ship was the billy o' tea\"]\n"
          ]
        }
      ],
      "source": [
        "# Perform sentence tokenization\n",
        "from nltk.tokenize import sent_tokenize\n",
        "sentences = sent_tokenize(txt_1)\n",
        "\n",
        "print(sentences)"
      ]
    },
    {
      "cell_type": "markdown",
      "id": "c9b59eb5",
      "metadata": {
        "id": "c9b59eb5"
      },
      "source": [
        "## 2-3 Stopwords removal"
      ]
    },
    {
      "cell_type": "markdown",
      "id": "91db85aa",
      "metadata": {
        "id": "91db85aa"
      },
      "source": [
        "![image.png](attachment:image.png)"
      ]
    },
    {
      "cell_type": "markdown",
      "id": "b1afa91f",
      "metadata": {
        "id": "b1afa91f"
      },
      "source": [
        "Stopwords removal is a common preprocessing step in natural language processing (NLP) that involves removing common words, known as stopwords, from a text corpus. These stopwords are typically very common words in a language (e.g., \"the,\" \"and,\" \"in\") that do not carry significant meaning on their own and are often ignored or removed in text analysis to focus on more meaningful words."
      ]
    },
    {
      "cell_type": "markdown",
      "id": "9492fa4c",
      "metadata": {
        "id": "9492fa4c"
      },
      "source": [
        "There are several types and methods for stopwords removal:\n",
        "\n",
        "**Default Stopwords Lists:**  Many NLP libraries, such as NLTK (Natural Language Toolkit) and spaCy, provide predefined lists of stopwords for different languages.\n",
        "\n",
        "**Custom Stopwords Lists:** Depending on the specific context of your text data, you may create custom stopwords lists by identifying words that are frequent but do not provide meaningful information in your analysis. Custom lists are often used for domain-specific text data.\n",
        "\n",
        "**Frequency-Based Removal:** Instead of using predefined lists, some methods involve removing words based on their frequency of occurrence in the text. Words that appear very frequently (e.g., in more than 90% of documents) or very infrequently may be removed.\n",
        "\n",
        "**TF-IDF Based Removal:** Term Frequency-Inverse Document Frequency (TF-IDF) is a statistical measure that evaluates the importance of words in a document relative to a corpus of documents. Stopwords can be identified by their low TF-IDF scores and removed.\n",
        "\n",
        "**Part-of-Speech Filtering:** In some cases, stopwords can be removed based on their part of speech (POS). For example, removing all words identified as \"articles\" or \"conjunctions.\"\n",
        "\n",
        "\n",
        "\n",
        "The choice of stopwords removal method depends on the specific NLP task and the characteristics of the text data. It is important to carefully consider which stopwords to remove and how it might affect the quality and meaning of your analysis.\n",
        "\n",
        "\n",
        "\n",
        "\n"
      ]
    },
    {
      "cell_type": "code",
      "execution_count": null,
      "id": "93aaecc1",
      "metadata": {
        "id": "93aaecc1"
      },
      "outputs": [],
      "source": [
        "#import stopword class\n",
        "from nltk.corpus import stopwords as spw\n"
      ]
    },
    {
      "cell_type": "code",
      "execution_count": null,
      "id": "9bc06e05",
      "metadata": {
        "id": "9bc06e05",
        "outputId": "e54ad970-3a1b-4824-bc54-6701b84fa18a",
        "colab": {
          "base_uri": "https://localhost:8080/"
        }
      },
      "outputs": [
        {
          "output_type": "execute_result",
          "data": {
            "text/plain": [
              "['arabic',\n",
              " 'azerbaijani',\n",
              " 'basque',\n",
              " 'bengali',\n",
              " 'catalan',\n",
              " 'chinese',\n",
              " 'danish',\n",
              " 'dutch',\n",
              " 'english',\n",
              " 'finnish',\n",
              " 'french',\n",
              " 'german',\n",
              " 'greek',\n",
              " 'hebrew',\n",
              " 'hinglish',\n",
              " 'hungarian',\n",
              " 'indonesian',\n",
              " 'italian',\n",
              " 'kazakh',\n",
              " 'nepali',\n",
              " 'norwegian',\n",
              " 'portuguese',\n",
              " 'romanian',\n",
              " 'russian',\n",
              " 'slovene',\n",
              " 'spanish',\n",
              " 'swedish',\n",
              " 'tajik',\n",
              " 'turkish']"
            ]
          },
          "metadata": {},
          "execution_count": 47
        }
      ],
      "source": [
        "#Retrieve a list of identifiers (file IDs) for the documents or text files contained within a corpus or dataset.\n",
        "spw.fileids()\n",
        "\n"
      ]
    },
    {
      "cell_type": "code",
      "execution_count": null,
      "id": "5db05219",
      "metadata": {
        "id": "5db05219",
        "outputId": "270de4b5-d7d5-4e6f-a5fa-284353c8c7b6",
        "colab": {
          "base_uri": "https://localhost:8080/"
        }
      },
      "outputs": [
        {
          "output_type": "execute_result",
          "data": {
            "text/plain": [
              "['إذ',\n",
              " 'إذا',\n",
              " 'إذما',\n",
              " 'إذن',\n",
              " 'أف',\n",
              " 'أقل',\n",
              " 'أكثر',\n",
              " 'ألا',\n",
              " 'إلا',\n",
              " 'التي',\n",
              " 'الذي',\n",
              " 'الذين',\n",
              " 'اللاتي',\n",
              " 'اللائي',\n",
              " 'اللتان',\n",
              " 'اللتيا',\n",
              " 'اللتين',\n",
              " 'اللذان',\n",
              " 'اللذين',\n",
              " 'اللواتي',\n",
              " 'إلى',\n",
              " 'إليك',\n",
              " 'إليكم',\n",
              " 'إليكما',\n",
              " 'إليكن',\n",
              " 'أم',\n",
              " 'أما',\n",
              " 'أما',\n",
              " 'إما',\n",
              " 'أن',\n",
              " 'إن',\n",
              " 'إنا',\n",
              " 'أنا',\n",
              " 'أنت',\n",
              " 'أنتم',\n",
              " 'أنتما',\n",
              " 'أنتن',\n",
              " 'إنما',\n",
              " 'إنه',\n",
              " 'أنى',\n",
              " 'أنى',\n",
              " 'آه',\n",
              " 'آها',\n",
              " 'أو',\n",
              " 'أولاء',\n",
              " 'أولئك',\n",
              " 'أوه',\n",
              " 'آي',\n",
              " 'أي',\n",
              " 'أيها',\n",
              " 'إي',\n",
              " 'أين',\n",
              " 'أين',\n",
              " 'أينما',\n",
              " 'إيه',\n",
              " 'بخ',\n",
              " 'بس',\n",
              " 'بعد',\n",
              " 'بعض',\n",
              " 'بك',\n",
              " 'بكم',\n",
              " 'بكم',\n",
              " 'بكما',\n",
              " 'بكن',\n",
              " 'بل',\n",
              " 'بلى',\n",
              " 'بما',\n",
              " 'بماذا',\n",
              " 'بمن',\n",
              " 'بنا',\n",
              " 'به',\n",
              " 'بها',\n",
              " 'بهم',\n",
              " 'بهما',\n",
              " 'بهن',\n",
              " 'بي',\n",
              " 'بين',\n",
              " 'بيد',\n",
              " 'تلك',\n",
              " 'تلكم',\n",
              " 'تلكما',\n",
              " 'ته',\n",
              " 'تي',\n",
              " 'تين',\n",
              " 'تينك',\n",
              " 'ثم',\n",
              " 'ثمة',\n",
              " 'حاشا',\n",
              " 'حبذا',\n",
              " 'حتى',\n",
              " 'حيث',\n",
              " 'حيثما',\n",
              " 'حين',\n",
              " 'خلا',\n",
              " 'دون',\n",
              " 'ذا',\n",
              " 'ذات',\n",
              " 'ذاك',\n",
              " 'ذان',\n",
              " 'ذانك',\n",
              " 'ذلك',\n",
              " 'ذلكم',\n",
              " 'ذلكما',\n",
              " 'ذلكن',\n",
              " 'ذه',\n",
              " 'ذو',\n",
              " 'ذوا',\n",
              " 'ذواتا',\n",
              " 'ذواتي',\n",
              " 'ذي',\n",
              " 'ذين',\n",
              " 'ذينك',\n",
              " 'ريث',\n",
              " 'سوف',\n",
              " 'سوى',\n",
              " 'شتان',\n",
              " 'عدا',\n",
              " 'عسى',\n",
              " 'عل',\n",
              " 'على',\n",
              " 'عليك',\n",
              " 'عليه',\n",
              " 'عما',\n",
              " 'عن',\n",
              " 'عند',\n",
              " 'غير',\n",
              " 'فإذا',\n",
              " 'فإن',\n",
              " 'فلا',\n",
              " 'فمن',\n",
              " 'في',\n",
              " 'فيم',\n",
              " 'فيما',\n",
              " 'فيه',\n",
              " 'فيها',\n",
              " 'قد',\n",
              " 'كأن',\n",
              " 'كأنما',\n",
              " 'كأي',\n",
              " 'كأين',\n",
              " 'كذا',\n",
              " 'كذلك',\n",
              " 'كل',\n",
              " 'كلا',\n",
              " 'كلاهما',\n",
              " 'كلتا',\n",
              " 'كلما',\n",
              " 'كليكما',\n",
              " 'كليهما',\n",
              " 'كم',\n",
              " 'كم',\n",
              " 'كما',\n",
              " 'كي',\n",
              " 'كيت',\n",
              " 'كيف',\n",
              " 'كيفما',\n",
              " 'لا',\n",
              " 'لاسيما',\n",
              " 'لدى',\n",
              " 'لست',\n",
              " 'لستم',\n",
              " 'لستما',\n",
              " 'لستن',\n",
              " 'لسن',\n",
              " 'لسنا',\n",
              " 'لعل',\n",
              " 'لك',\n",
              " 'لكم',\n",
              " 'لكما',\n",
              " 'لكن',\n",
              " 'لكنما',\n",
              " 'لكي',\n",
              " 'لكيلا',\n",
              " 'لم',\n",
              " 'لما',\n",
              " 'لن',\n",
              " 'لنا',\n",
              " 'له',\n",
              " 'لها',\n",
              " 'لهم',\n",
              " 'لهما',\n",
              " 'لهن',\n",
              " 'لو',\n",
              " 'لولا',\n",
              " 'لوما',\n",
              " 'لي',\n",
              " 'لئن',\n",
              " 'ليت',\n",
              " 'ليس',\n",
              " 'ليسا',\n",
              " 'ليست',\n",
              " 'ليستا',\n",
              " 'ليسوا',\n",
              " 'ما',\n",
              " 'ماذا',\n",
              " 'متى',\n",
              " 'مذ',\n",
              " 'مع',\n",
              " 'مما',\n",
              " 'ممن',\n",
              " 'من',\n",
              " 'منه',\n",
              " 'منها',\n",
              " 'منذ',\n",
              " 'مه',\n",
              " 'مهما',\n",
              " 'نحن',\n",
              " 'نحو',\n",
              " 'نعم',\n",
              " 'ها',\n",
              " 'هاتان',\n",
              " 'هاته',\n",
              " 'هاتي',\n",
              " 'هاتين',\n",
              " 'هاك',\n",
              " 'هاهنا',\n",
              " 'هذا',\n",
              " 'هذان',\n",
              " 'هذه',\n",
              " 'هذي',\n",
              " 'هذين',\n",
              " 'هكذا',\n",
              " 'هل',\n",
              " 'هلا',\n",
              " 'هم',\n",
              " 'هما',\n",
              " 'هن',\n",
              " 'هنا',\n",
              " 'هناك',\n",
              " 'هنالك',\n",
              " 'هو',\n",
              " 'هؤلاء',\n",
              " 'هي',\n",
              " 'هيا',\n",
              " 'هيت',\n",
              " 'هيهات',\n",
              " 'والذي',\n",
              " 'والذين',\n",
              " 'وإذ',\n",
              " 'وإذا',\n",
              " 'وإن',\n",
              " 'ولا',\n",
              " 'ولكن',\n",
              " 'ولو',\n",
              " 'وما',\n",
              " 'ومن',\n",
              " 'وهو',\n",
              " 'يا',\n",
              " 'أبٌ',\n",
              " 'أخٌ',\n",
              " 'حمٌ',\n",
              " 'فو',\n",
              " 'أنتِ',\n",
              " 'يناير',\n",
              " 'فبراير',\n",
              " 'مارس',\n",
              " 'أبريل',\n",
              " 'مايو',\n",
              " 'يونيو',\n",
              " 'يوليو',\n",
              " 'أغسطس',\n",
              " 'سبتمبر',\n",
              " 'أكتوبر',\n",
              " 'نوفمبر',\n",
              " 'ديسمبر',\n",
              " 'جانفي',\n",
              " 'فيفري',\n",
              " 'مارس',\n",
              " 'أفريل',\n",
              " 'ماي',\n",
              " 'جوان',\n",
              " 'جويلية',\n",
              " 'أوت',\n",
              " 'كانون',\n",
              " 'شباط',\n",
              " 'آذار',\n",
              " 'نيسان',\n",
              " 'أيار',\n",
              " 'حزيران',\n",
              " 'تموز',\n",
              " 'آب',\n",
              " 'أيلول',\n",
              " 'تشرين',\n",
              " 'دولار',\n",
              " 'دينار',\n",
              " 'ريال',\n",
              " 'درهم',\n",
              " 'ليرة',\n",
              " 'جنيه',\n",
              " 'قرش',\n",
              " 'مليم',\n",
              " 'فلس',\n",
              " 'هللة',\n",
              " 'سنتيم',\n",
              " 'يورو',\n",
              " 'ين',\n",
              " 'يوان',\n",
              " 'شيكل',\n",
              " 'واحد',\n",
              " 'اثنان',\n",
              " 'ثلاثة',\n",
              " 'أربعة',\n",
              " 'خمسة',\n",
              " 'ستة',\n",
              " 'سبعة',\n",
              " 'ثمانية',\n",
              " 'تسعة',\n",
              " 'عشرة',\n",
              " 'أحد',\n",
              " 'اثنا',\n",
              " 'اثني',\n",
              " 'إحدى',\n",
              " 'ثلاث',\n",
              " 'أربع',\n",
              " 'خمس',\n",
              " 'ست',\n",
              " 'سبع',\n",
              " 'ثماني',\n",
              " 'تسع',\n",
              " 'عشر',\n",
              " 'ثمان',\n",
              " 'سبت',\n",
              " 'أحد',\n",
              " 'اثنين',\n",
              " 'ثلاثاء',\n",
              " 'أربعاء',\n",
              " 'خميس',\n",
              " 'جمعة',\n",
              " 'أول',\n",
              " 'ثان',\n",
              " 'ثاني',\n",
              " 'ثالث',\n",
              " 'رابع',\n",
              " 'خامس',\n",
              " 'سادس',\n",
              " 'سابع',\n",
              " 'ثامن',\n",
              " 'تاسع',\n",
              " 'عاشر',\n",
              " 'حادي',\n",
              " 'أ',\n",
              " 'ب',\n",
              " 'ت',\n",
              " 'ث',\n",
              " 'ج',\n",
              " 'ح',\n",
              " 'خ',\n",
              " 'د',\n",
              " 'ذ',\n",
              " 'ر',\n",
              " 'ز',\n",
              " 'س',\n",
              " 'ش',\n",
              " 'ص',\n",
              " 'ض',\n",
              " 'ط',\n",
              " 'ظ',\n",
              " 'ع',\n",
              " 'غ',\n",
              " 'ف',\n",
              " 'ق',\n",
              " 'ك',\n",
              " 'ل',\n",
              " 'م',\n",
              " 'ن',\n",
              " 'ه',\n",
              " 'و',\n",
              " 'ي',\n",
              " 'ء',\n",
              " 'ى',\n",
              " 'آ',\n",
              " 'ؤ',\n",
              " 'ئ',\n",
              " 'أ',\n",
              " 'ة',\n",
              " 'ألف',\n",
              " 'باء',\n",
              " 'تاء',\n",
              " 'ثاء',\n",
              " 'جيم',\n",
              " 'حاء',\n",
              " 'خاء',\n",
              " 'دال',\n",
              " 'ذال',\n",
              " 'راء',\n",
              " 'زاي',\n",
              " 'سين',\n",
              " 'شين',\n",
              " 'صاد',\n",
              " 'ضاد',\n",
              " 'طاء',\n",
              " 'ظاء',\n",
              " 'عين',\n",
              " 'غين',\n",
              " 'فاء',\n",
              " 'قاف',\n",
              " 'كاف',\n",
              " 'لام',\n",
              " 'ميم',\n",
              " 'نون',\n",
              " 'هاء',\n",
              " 'واو',\n",
              " 'ياء',\n",
              " 'همزة',\n",
              " 'ي',\n",
              " 'نا',\n",
              " 'ك',\n",
              " 'كن',\n",
              " 'ه',\n",
              " 'إياه',\n",
              " 'إياها',\n",
              " 'إياهما',\n",
              " 'إياهم',\n",
              " 'إياهن',\n",
              " 'إياك',\n",
              " 'إياكما',\n",
              " 'إياكم',\n",
              " 'إياك',\n",
              " 'إياكن',\n",
              " 'إياي',\n",
              " 'إيانا',\n",
              " 'أولالك',\n",
              " 'تانِ',\n",
              " 'تانِك',\n",
              " 'تِه',\n",
              " 'تِي',\n",
              " 'تَيْنِ',\n",
              " 'ثمّ',\n",
              " 'ثمّة',\n",
              " 'ذانِ',\n",
              " 'ذِه',\n",
              " 'ذِي',\n",
              " 'ذَيْنِ',\n",
              " 'هَؤلاء',\n",
              " 'هَاتانِ',\n",
              " 'هَاتِه',\n",
              " 'هَاتِي',\n",
              " 'هَاتَيْنِ',\n",
              " 'هَذا',\n",
              " 'هَذانِ',\n",
              " 'هَذِه',\n",
              " 'هَذِي',\n",
              " 'هَذَيْنِ',\n",
              " 'الألى',\n",
              " 'الألاء',\n",
              " 'أل',\n",
              " 'أنّى',\n",
              " 'أيّ',\n",
              " 'ّأيّان',\n",
              " 'أنّى',\n",
              " 'أيّ',\n",
              " 'ّأيّان',\n",
              " 'ذيت',\n",
              " 'كأيّ',\n",
              " 'كأيّن',\n",
              " 'بضع',\n",
              " 'فلان',\n",
              " 'وا',\n",
              " 'آمينَ',\n",
              " 'آهِ',\n",
              " 'آهٍ',\n",
              " 'آهاً',\n",
              " 'أُفٍّ',\n",
              " 'أُفٍّ',\n",
              " 'أفٍّ',\n",
              " 'أمامك',\n",
              " 'أمامكَ',\n",
              " 'أوّهْ',\n",
              " 'إلَيْكَ',\n",
              " 'إلَيْكَ',\n",
              " 'إليكَ',\n",
              " 'إليكنّ',\n",
              " 'إيهٍ',\n",
              " 'بخٍ',\n",
              " 'بسّ',\n",
              " 'بَسْ',\n",
              " 'بطآن',\n",
              " 'بَلْهَ',\n",
              " 'حاي',\n",
              " 'حَذارِ',\n",
              " 'حيَّ',\n",
              " 'حيَّ',\n",
              " 'دونك',\n",
              " 'رويدك',\n",
              " 'سرعان',\n",
              " 'شتانَ',\n",
              " 'شَتَّانَ',\n",
              " 'صهْ',\n",
              " 'صهٍ',\n",
              " 'طاق',\n",
              " 'طَق',\n",
              " 'عَدَسْ',\n",
              " 'كِخ',\n",
              " 'مكانَك',\n",
              " 'مكانَك',\n",
              " 'مكانَك',\n",
              " 'مكانكم',\n",
              " 'مكانكما',\n",
              " 'مكانكنّ',\n",
              " 'نَخْ',\n",
              " 'هاكَ',\n",
              " 'هَجْ',\n",
              " 'هلم',\n",
              " 'هيّا',\n",
              " 'هَيْهات',\n",
              " 'وا',\n",
              " 'واهاً',\n",
              " 'وراءَك',\n",
              " 'وُشْكَانَ',\n",
              " 'وَيْ',\n",
              " 'يفعلان',\n",
              " 'تفعلان',\n",
              " 'يفعلون',\n",
              " 'تفعلون',\n",
              " 'تفعلين',\n",
              " 'اتخذ',\n",
              " 'ألفى',\n",
              " 'تخذ',\n",
              " 'ترك',\n",
              " 'تعلَّم',\n",
              " 'جعل',\n",
              " 'حجا',\n",
              " 'حبيب',\n",
              " 'خال',\n",
              " 'حسب',\n",
              " 'خال',\n",
              " 'درى',\n",
              " 'رأى',\n",
              " 'زعم',\n",
              " 'صبر',\n",
              " 'ظنَّ',\n",
              " 'عدَّ',\n",
              " 'علم',\n",
              " 'غادر',\n",
              " 'ذهب',\n",
              " 'وجد',\n",
              " 'ورد',\n",
              " 'وهب',\n",
              " 'أسكن',\n",
              " 'أطعم',\n",
              " 'أعطى',\n",
              " 'رزق',\n",
              " 'زود',\n",
              " 'سقى',\n",
              " 'كسا',\n",
              " 'أخبر',\n",
              " 'أرى',\n",
              " 'أعلم',\n",
              " 'أنبأ',\n",
              " 'حدَث',\n",
              " 'خبَّر',\n",
              " 'نبَّا',\n",
              " 'أفعل به',\n",
              " 'ما أفعله',\n",
              " 'بئس',\n",
              " 'ساء',\n",
              " 'طالما',\n",
              " 'قلما',\n",
              " 'لات',\n",
              " 'لكنَّ',\n",
              " 'ءَ',\n",
              " 'أجل',\n",
              " 'إذاً',\n",
              " 'أمّا',\n",
              " 'إمّا',\n",
              " 'إنَّ',\n",
              " 'أنًّ',\n",
              " 'أى',\n",
              " 'إى',\n",
              " 'أيا',\n",
              " 'ب',\n",
              " 'ثمَّ',\n",
              " 'جلل',\n",
              " 'جير',\n",
              " 'رُبَّ',\n",
              " 'س',\n",
              " 'علًّ',\n",
              " 'ف',\n",
              " 'كأنّ',\n",
              " 'كلَّا',\n",
              " 'كى',\n",
              " 'ل',\n",
              " 'لات',\n",
              " 'لعلَّ',\n",
              " 'لكنَّ',\n",
              " 'لكنَّ',\n",
              " 'م',\n",
              " 'نَّ',\n",
              " 'هلّا',\n",
              " 'وا',\n",
              " 'أل',\n",
              " 'إلّا',\n",
              " 'ت',\n",
              " 'ك',\n",
              " 'لمّا',\n",
              " 'ن',\n",
              " 'ه',\n",
              " 'و',\n",
              " 'ا',\n",
              " 'ي',\n",
              " 'تجاه',\n",
              " 'تلقاء',\n",
              " 'جميع',\n",
              " 'حسب',\n",
              " 'سبحان',\n",
              " 'شبه',\n",
              " 'لعمر',\n",
              " 'مثل',\n",
              " 'معاذ',\n",
              " 'أبو',\n",
              " 'أخو',\n",
              " 'حمو',\n",
              " 'فو',\n",
              " 'مئة',\n",
              " 'مئتان',\n",
              " 'ثلاثمئة',\n",
              " 'أربعمئة',\n",
              " 'خمسمئة',\n",
              " 'ستمئة',\n",
              " 'سبعمئة',\n",
              " 'ثمنمئة',\n",
              " 'تسعمئة',\n",
              " 'مائة',\n",
              " 'ثلاثمائة',\n",
              " 'أربعمائة',\n",
              " 'خمسمائة',\n",
              " 'ستمائة',\n",
              " 'سبعمائة',\n",
              " 'ثمانمئة',\n",
              " 'تسعمائة',\n",
              " 'عشرون',\n",
              " 'ثلاثون',\n",
              " 'اربعون',\n",
              " 'خمسون',\n",
              " 'ستون',\n",
              " 'سبعون',\n",
              " 'ثمانون',\n",
              " 'تسعون',\n",
              " 'عشرين',\n",
              " 'ثلاثين',\n",
              " 'اربعين',\n",
              " 'خمسين',\n",
              " 'ستين',\n",
              " 'سبعين',\n",
              " 'ثمانين',\n",
              " 'تسعين',\n",
              " 'بضع',\n",
              " 'نيف',\n",
              " 'أجمع',\n",
              " 'جميع',\n",
              " 'عامة',\n",
              " 'عين',\n",
              " 'نفس',\n",
              " 'لا سيما',\n",
              " 'أصلا',\n",
              " 'أهلا',\n",
              " 'أيضا',\n",
              " 'بؤسا',\n",
              " 'بعدا',\n",
              " 'بغتة',\n",
              " 'تعسا',\n",
              " 'حقا',\n",
              " 'حمدا',\n",
              " 'خلافا',\n",
              " 'خاصة',\n",
              " 'دواليك',\n",
              " 'سحقا',\n",
              " 'سرا',\n",
              " 'سمعا',\n",
              " 'صبرا',\n",
              " 'صدقا',\n",
              " 'صراحة',\n",
              " 'طرا',\n",
              " 'عجبا',\n",
              " 'عيانا',\n",
              " 'غالبا',\n",
              " 'فرادى',\n",
              " 'فضلا',\n",
              " 'قاطبة',\n",
              " 'كثيرا',\n",
              " 'لبيك',\n",
              " 'معاذ',\n",
              " 'أبدا',\n",
              " 'إزاء',\n",
              " 'أصلا',\n",
              " 'الآن',\n",
              " 'أمد',\n",
              " 'أمس',\n",
              " 'آنفا',\n",
              " 'آناء',\n",
              " 'أنّى',\n",
              " 'أول',\n",
              " 'أيّان',\n",
              " 'تارة',\n",
              " 'ثمّ',\n",
              " 'ثمّة',\n",
              " 'حقا',\n",
              " 'صباح',\n",
              " 'مساء',\n",
              " 'ضحوة',\n",
              " 'عوض',\n",
              " 'غدا',\n",
              " 'غداة',\n",
              " 'قطّ',\n",
              " 'كلّما',\n",
              " 'لدن',\n",
              " 'لمّا',\n",
              " 'مرّة',\n",
              " 'قبل',\n",
              " 'خلف',\n",
              " 'أمام',\n",
              " 'فوق',\n",
              " 'تحت',\n",
              " 'يمين',\n",
              " 'شمال',\n",
              " 'ارتدّ',\n",
              " 'استحال',\n",
              " 'أصبح',\n",
              " 'أضحى',\n",
              " 'آض',\n",
              " 'أمسى',\n",
              " 'انقلب',\n",
              " 'بات',\n",
              " 'تبدّل',\n",
              " 'تحوّل',\n",
              " 'حار',\n",
              " 'رجع',\n",
              " 'راح',\n",
              " 'صار',\n",
              " 'ظلّ',\n",
              " 'عاد',\n",
              " 'غدا',\n",
              " 'كان',\n",
              " 'ما انفك',\n",
              " 'ما برح',\n",
              " 'مادام',\n",
              " 'مازال',\n",
              " 'مافتئ',\n",
              " 'ابتدأ',\n",
              " 'أخذ',\n",
              " 'اخلولق',\n",
              " 'أقبل',\n",
              " 'انبرى',\n",
              " 'أنشأ',\n",
              " 'أوشك',\n",
              " 'جعل',\n",
              " 'حرى',\n",
              " 'شرع',\n",
              " 'طفق',\n",
              " 'علق',\n",
              " 'قام',\n",
              " 'كرب',\n",
              " 'كاد',\n",
              " 'هبّ']"
            ]
          },
          "metadata": {},
          "execution_count": 48
        }
      ],
      "source": [
        "#get the arabic stopwords\n",
        "\n",
        "spw.words('arabic')\n"
      ]
    },
    {
      "cell_type": "code",
      "execution_count": null,
      "id": "e56a0ca1",
      "metadata": {
        "id": "e56a0ca1",
        "outputId": "97776408-c64c-4cde-8637-3d41d2831a3a",
        "colab": {
          "base_uri": "https://localhost:8080/"
        }
      },
      "outputs": [
        {
          "output_type": "execute_result",
          "data": {
            "text/plain": [
              "['i',\n",
              " 'me',\n",
              " 'my',\n",
              " 'myself',\n",
              " 'we',\n",
              " 'our',\n",
              " 'ours',\n",
              " 'ourselves',\n",
              " 'you',\n",
              " \"you're\",\n",
              " \"you've\",\n",
              " \"you'll\",\n",
              " \"you'd\",\n",
              " 'your',\n",
              " 'yours',\n",
              " 'yourself',\n",
              " 'yourselves',\n",
              " 'he',\n",
              " 'him',\n",
              " 'his',\n",
              " 'himself',\n",
              " 'she',\n",
              " \"she's\",\n",
              " 'her',\n",
              " 'hers',\n",
              " 'herself',\n",
              " 'it',\n",
              " \"it's\",\n",
              " 'its',\n",
              " 'itself',\n",
              " 'they',\n",
              " 'them',\n",
              " 'their',\n",
              " 'theirs',\n",
              " 'themselves',\n",
              " 'what',\n",
              " 'which',\n",
              " 'who',\n",
              " 'whom',\n",
              " 'this',\n",
              " 'that',\n",
              " \"that'll\",\n",
              " 'these',\n",
              " 'those',\n",
              " 'am',\n",
              " 'is',\n",
              " 'are',\n",
              " 'was',\n",
              " 'were',\n",
              " 'be',\n",
              " 'been',\n",
              " 'being',\n",
              " 'have',\n",
              " 'has',\n",
              " 'had',\n",
              " 'having',\n",
              " 'do',\n",
              " 'does',\n",
              " 'did',\n",
              " 'doing',\n",
              " 'a',\n",
              " 'an',\n",
              " 'the',\n",
              " 'and',\n",
              " 'but',\n",
              " 'if',\n",
              " 'or',\n",
              " 'because',\n",
              " 'as',\n",
              " 'until',\n",
              " 'while',\n",
              " 'of',\n",
              " 'at',\n",
              " 'by',\n",
              " 'for',\n",
              " 'with',\n",
              " 'about',\n",
              " 'against',\n",
              " 'between',\n",
              " 'into',\n",
              " 'through',\n",
              " 'during',\n",
              " 'before',\n",
              " 'after',\n",
              " 'above',\n",
              " 'below',\n",
              " 'to',\n",
              " 'from',\n",
              " 'up',\n",
              " 'down',\n",
              " 'in',\n",
              " 'out',\n",
              " 'on',\n",
              " 'off',\n",
              " 'over',\n",
              " 'under',\n",
              " 'again',\n",
              " 'further',\n",
              " 'then',\n",
              " 'once',\n",
              " 'here',\n",
              " 'there',\n",
              " 'when',\n",
              " 'where',\n",
              " 'why',\n",
              " 'how',\n",
              " 'all',\n",
              " 'any',\n",
              " 'both',\n",
              " 'each',\n",
              " 'few',\n",
              " 'more',\n",
              " 'most',\n",
              " 'other',\n",
              " 'some',\n",
              " 'such',\n",
              " 'no',\n",
              " 'nor',\n",
              " 'not',\n",
              " 'only',\n",
              " 'own',\n",
              " 'same',\n",
              " 'so',\n",
              " 'than',\n",
              " 'too',\n",
              " 'very',\n",
              " 's',\n",
              " 't',\n",
              " 'can',\n",
              " 'will',\n",
              " 'just',\n",
              " 'don',\n",
              " \"don't\",\n",
              " 'should',\n",
              " \"should've\",\n",
              " 'now',\n",
              " 'd',\n",
              " 'll',\n",
              " 'm',\n",
              " 'o',\n",
              " 're',\n",
              " 've',\n",
              " 'y',\n",
              " 'ain',\n",
              " 'aren',\n",
              " \"aren't\",\n",
              " 'couldn',\n",
              " \"couldn't\",\n",
              " 'didn',\n",
              " \"didn't\",\n",
              " 'doesn',\n",
              " \"doesn't\",\n",
              " 'hadn',\n",
              " \"hadn't\",\n",
              " 'hasn',\n",
              " \"hasn't\",\n",
              " 'haven',\n",
              " \"haven't\",\n",
              " 'isn',\n",
              " \"isn't\",\n",
              " 'ma',\n",
              " 'mightn',\n",
              " \"mightn't\",\n",
              " 'mustn',\n",
              " \"mustn't\",\n",
              " 'needn',\n",
              " \"needn't\",\n",
              " 'shan',\n",
              " \"shan't\",\n",
              " 'shouldn',\n",
              " \"shouldn't\",\n",
              " 'wasn',\n",
              " \"wasn't\",\n",
              " 'weren',\n",
              " \"weren't\",\n",
              " 'won',\n",
              " \"won't\",\n",
              " 'wouldn',\n",
              " \"wouldn't\"]"
            ]
          },
          "metadata": {},
          "execution_count": 49
        }
      ],
      "source": [
        "#get the english stopwords\n",
        "spw.words('english')\n"
      ]
    },
    {
      "cell_type": "code",
      "execution_count": null,
      "id": "f73a0c4d",
      "metadata": {
        "id": "f73a0c4d",
        "colab": {
          "base_uri": "https://localhost:8080/"
        },
        "outputId": "e9308b15-91ef-4ba0-969f-237c5821f4ac"
      },
      "outputs": [
        {
          "output_type": "stream",
          "name": "stdout",
          "text": [
            "removed ['the', 'on', 'the', 'not', 'a', 'to', 'be', 'a', 'of', 'and', 'it', 'i', 'the']\n"
          ]
        }
      ],
      "source": [
        "# Example\n",
        "text_2= \"The snow glows white on the mountain tonight, Not a footprint to be seen. A kingdom of isolation, And it looks like I\\'m the queen\"\n",
        "# 1/ lowercasing\n",
        "text_2 = text_2.lower()\n",
        "# 2/ word tokenization\n",
        "words = word_tokenize(text_2)\n",
        "words\n",
        "# 3/ stopword removal and display clean text\n",
        "stop_words = set(spw.words('english'))\n",
        "\n",
        "clean_words = [word for word in words if word not in stop_words]\n",
        "clean_words\n",
        "\n",
        "# 4/ display removed stopwords\n",
        "\n",
        "removed = [ w for w in words if w in stop_words]\n",
        "print('removed', removed)\n"
      ]
    },
    {
      "cell_type": "code",
      "execution_count": null,
      "id": "72836367",
      "metadata": {
        "id": "72836367",
        "outputId": "3354d8fe-474c-4620-ac37-1d4be1dd4fe9",
        "colab": {
          "base_uri": "https://localhost:8080/"
        }
      },
      "outputs": [
        {
          "output_type": "stream",
          "name": "stdout",
          "text": [
            "Lowercased Text:\n",
            "the snow glows white on the mountain tonight, not a footprint to be seen. a kingdom of isolation, and it looks like i'm the queen\n",
            "\n",
            "Word Tokenization:\n",
            "['the', 'snow', 'glows', 'white', 'on', 'the', 'mountain', 'tonight', ',', 'not', 'a', 'footprint', 'to', 'be', 'seen', '.', 'a', 'kingdom', 'of', 'isolation', ',', 'and', 'it', 'looks', 'like', 'i', \"'m\", 'the', 'queen']\n"
          ]
        }
      ],
      "source": [
        "# 1/ lowercasing\n",
        "# 2/ word tokenization\n",
        "# 1. Lowercasing\n",
        "text_lower = text_2.lower()\n",
        "print(\"Lowercased Text:\")\n",
        "print(text_lower)\n",
        "\n",
        "# 2. Word Tokenization\n",
        "words = word_tokenize(text_lower)\n",
        "print(\"\\nWord Tokenization:\")\n",
        "print(words)"
      ]
    },
    {
      "cell_type": "code",
      "execution_count": null,
      "id": "7cd469b0",
      "metadata": {
        "id": "7cd469b0"
      },
      "outputs": [],
      "source": [
        "# 3/ stopword removal and display clean text\n",
        "\n",
        "None\n"
      ]
    },
    {
      "cell_type": "code",
      "execution_count": null,
      "id": "bb3eaca6",
      "metadata": {
        "id": "bb3eaca6"
      },
      "outputs": [],
      "source": [
        "# 4/ display removed stopwords\n",
        "\n",
        "None"
      ]
    },
    {
      "cell_type": "markdown",
      "id": "27a59871",
      "metadata": {
        "id": "27a59871"
      },
      "source": [
        "## 2-4 Stemming"
      ]
    },
    {
      "cell_type": "markdown",
      "id": "529b9f8b",
      "metadata": {
        "id": "529b9f8b"
      },
      "source": [
        "![image.png](attachment:image.png)"
      ]
    },
    {
      "cell_type": "markdown",
      "id": "1f9029c5",
      "metadata": {
        "id": "1f9029c5"
      },
      "source": [
        "Stemming in natural language processing is the process of reducing words to their root or base form. The goal of stemming is to remove suffixes (and sometimes prefixes) from words so that similar words with the same root are treated as the same word, regardless of their inflections or variations.\n",
        "\n",
        "\n",
        "It's essential to note that stemming algorithms are heuristic and may not always produce perfect results, as they can sometimes generate non-words or incorrect stems. Nonetheless, stemming is a valuable technique for text processing and analysis."
      ]
    },
    {
      "cell_type": "markdown",
      "id": "aa0105ca",
      "metadata": {
        "id": "aa0105ca"
      },
      "source": [
        "![image.png](attachment:image.png)"
      ]
    },
    {
      "cell_type": "code",
      "execution_count": null,
      "id": "91b59fdd",
      "metadata": {
        "id": "91b59fdd",
        "outputId": "051223a3-2265-495f-a2fc-3da5841a8ebe",
        "colab": {
          "base_uri": "https://localhost:8080/"
        }
      },
      "outputs": [
        {
          "output_type": "stream",
          "name": "stdout",
          "text": [
            "wait\n"
          ]
        }
      ],
      "source": [
        "# Porter Stemmer\n",
        "\n",
        "ps= nltk.PorterStemmer()\n",
        "print(ps.stem('waiting')) #ken jidher mtaa kilma"
      ]
    },
    {
      "cell_type": "code",
      "execution_count": null,
      "id": "b42c9a57",
      "metadata": {
        "id": "b42c9a57",
        "outputId": "e9ed9653-f845-45e7-b40f-19c2512c456c",
        "colab": {
          "base_uri": "https://localhost:8080/"
        }
      },
      "outputs": [
        {
          "output_type": "stream",
          "name": "stdout",
          "text": [
            "wait\n",
            "wait\n",
            "wait\n"
          ]
        }
      ],
      "source": [
        "words=[\"waited\",\"waiting\",\"waits\"]\n",
        "for w in words:\n",
        "  print(ps.stem(w))"
      ]
    },
    {
      "cell_type": "code",
      "execution_count": null,
      "id": "ffc9669d",
      "metadata": {
        "id": "ffc9669d",
        "outputId": "735b8d12-4cc8-4a0e-b2fa-bfb1690dae08",
        "colab": {
          "base_uri": "https://localhost:8080/"
        }
      },
      "outputs": [
        {
          "output_type": "stream",
          "name": "stdout",
          "text": [
            "troubl\n"
          ]
        }
      ],
      "source": [
        "# heuristic! might do mistakes\n",
        "print(ps.stem('trouble')) #pour diminuer la len"
      ]
    },
    {
      "cell_type": "markdown",
      "id": "a081fe68",
      "metadata": {
        "id": "a081fe68"
      },
      "source": [
        "## 2-5 Lemmatization"
      ]
    },
    {
      "cell_type": "markdown",
      "id": "ed3ea811",
      "metadata": {
        "id": "ed3ea811"
      },
      "source": [
        "Lemmatization is a natural language processing technique that involves reducing words to their base or root form, known as a lemma. Unlike stemming, which uses heuristic rules to remove suffixes from words, lemmatization aims to find the actual dictionary form of a word."
      ]
    },
    {
      "cell_type": "markdown",
      "id": "ce46b073",
      "metadata": {
        "id": "ce46b073"
      },
      "source": [
        "For example, the lemma of the word \"better\" is \"good,\" and the lemma of \"jumps\" is \"jump.\"\n",
        "\n",
        " Lemmatization considers word context and part-of-speech information to determine the appropriate lemma. It helps in achieving more accurate and meaningful results in text analysis, as it produces valid words that can be found in dictionaries."
      ]
    },
    {
      "cell_type": "markdown",
      "id": "247268ec",
      "metadata": {
        "id": "247268ec"
      },
      "source": [
        "![image.png](attachment:image.png)"
      ]
    },
    {
      "cell_type": "markdown",
      "id": "01061d31",
      "metadata": {
        "id": "01061d31"
      },
      "source": [
        "![image.png](attachment:image.png)"
      ]
    },
    {
      "cell_type": "markdown",
      "id": "fd76b903",
      "metadata": {
        "id": "fd76b903"
      },
      "source": [
        "#### Why do we need Stemming if we have Lemmatization ?"
      ]
    },
    {
      "cell_type": "markdown",
      "id": "f263a0d5",
      "metadata": {
        "id": "f263a0d5"
      },
      "source": [
        "1.Stemming is generally faster and computationally less expensive than lemmatization. Lemmatization requires dictionary lookups and part-of-speech tagging, which can be more time-consuming.\n",
        "\n",
        "**--> Speed and Efficiency**\n",
        "\n",
        "2.Stemming rules are simpler and easier to implement than lemmatization algorithms, which often involve more complex linguistic analysis.\n",
        "\n",
        "**--> Simplicity**\n",
        "\n",
        "3.Stemming can help in information **retrieval tasks** where you want to match multiple word forms to a common root. For example, if you search for \"running,\" stemming could match it to documents containing \"run\" or \"runner.\" This can be useful in search engines and document retrieval systems.\n",
        "\n",
        "4.Stemming can help reduce the dimensionality of text data. By converting words to their root forms, you reduce the number of unique words in your dataset, which can be advantageous for certain machine learning models, especially when you have limited data.\n",
        "**--> Reducing Dimensionality**"
      ]
    },
    {
      "cell_type": "code",
      "execution_count": null,
      "id": "427f241b",
      "metadata": {
        "id": "427f241b"
      },
      "outputs": [],
      "source": [
        "#import WordNetLemmatizer #lemmatizer men plusieur yrajaa le singulier\n",
        "\n",
        "from nltk.stem import WordNetLemmatizer"
      ]
    },
    {
      "cell_type": "code",
      "execution_count": null,
      "id": "b4df6c79",
      "metadata": {
        "id": "b4df6c79",
        "outputId": "d3607cec-6c34-4b26-9a4a-5f713169f717",
        "colab": {
          "base_uri": "https://localhost:8080/"
        }
      },
      "outputs": [
        {
          "output_type": "stream",
          "name": "stdout",
          "text": [
            "trouble\n",
            "wait\n"
          ]
        }
      ],
      "source": [
        "lem = WordNetLemmatizer()\n",
        "print(lem.lemmatize('trouble'))\n",
        "print(lem.lemmatize('waits'))"
      ]
    },
    {
      "cell_type": "code",
      "execution_count": null,
      "id": "9d0ab993",
      "metadata": {
        "id": "9d0ab993",
        "outputId": "2df6561f-d780-4559-f6a8-40a43099828d",
        "colab": {
          "base_uri": "https://localhost:8080/"
        }
      },
      "outputs": [
        {
          "output_type": "stream",
          "name": "stdout",
          "text": [
            "waiting\n"
          ]
        }
      ],
      "source": [
        "print(lem.lemmatize('waiting'))"
      ]
    },
    {
      "cell_type": "markdown",
      "id": "afd3d3a5",
      "metadata": {
        "id": "afd3d3a5"
      },
      "source": [
        "The output of *lem.lemmatize('waiting')* doesn't give \"wait\" because the lemmatize function from the NLTK library, by default, assumes that the input word is a noun.\n",
        "\n",
        "In English, the base form of verbs is typically the infinitive form (e.g., \"to wait\"), and lemmatization aims to convert words to their base or dictionary forms.\n",
        "\n",
        "If you want to lemmatize a verb like \"waiting\" to \"wait,\" you need to specify the part of speech (POS) tag explicitly because lemmatization can be different for nouns, verbs, adjectives, etc. You can do this as follows:"
      ]
    },
    {
      "cell_type": "code",
      "execution_count": null,
      "id": "a2cee61b",
      "metadata": {
        "id": "a2cee61b",
        "outputId": "dfd2ef7d-ddce-4abf-d295-d02012f4c7a0",
        "colab": {
          "base_uri": "https://localhost:8080/"
        }
      },
      "outputs": [
        {
          "output_type": "stream",
          "name": "stdout",
          "text": [
            "wait\n"
          ]
        }
      ],
      "source": [
        "# by part of speech\n",
        "print(lem.lemmatize('waiting', pos='v'))"
      ]
    },
    {
      "cell_type": "code",
      "execution_count": null,
      "id": "c077107f",
      "metadata": {
        "scrolled": true,
        "id": "c077107f",
        "outputId": "d79d94d9-aa59-48ee-939f-9b62f4dfcb88",
        "colab": {
          "base_uri": "https://localhost:8080/"
        }
      },
      "outputs": [
        {
          "output_type": "stream",
          "name": "stderr",
          "text": [
            "[nltk_data] Downloading package wordnet to /root/nltk_data...\n",
            "[nltk_data]   Package wordnet is already up-to-date!\n"
          ]
        },
        {
          "output_type": "execute_result",
          "data": {
            "text/plain": [
              "True"
            ]
          },
          "metadata": {},
          "execution_count": 77
        }
      ],
      "source": [
        "nltk.download('wordnet')\n"
      ]
    },
    {
      "cell_type": "markdown",
      "id": "d5ff257c",
      "metadata": {
        "id": "d5ff257c"
      },
      "source": [
        "💡💡💡💡**Key Features of WordNet**\n",
        "\n",
        "**Definition of WordNet**: WordNet is a large lexical database of English, organized into sets of synonyms called synsets. Each synset represents a distinct concept and includes words that are interchangeable in some context. WordNet provides a rich network of semantic relationships between words, such as synonyms, antonyms, hypernyms (generalizations), and hyponyms (specialized terms).\n",
        "\n",
        "**1- Synsets:**\n",
        "\n",
        "A synset is a set of synonyms that express a distinct concept. For example, the synset for the word \"car\" might include words like \"automobile,\" \"auto,\" and \"machine.\"\n",
        "\n",
        "**2- Semantic Relationships:**\n",
        "\n",
        "**Hyponyms:** More specific terms. For example, \"rose\" is a hyponym of \"flower.\"\n",
        "\n",
        "**Hypernyms:** More general terms. For example, \"flower\" is a hypernym of \"rose.\"\n",
        "\n",
        "**Antonyms:** Words with opposite meanings. For example, \"happy\" and \"sad\" are antonyms.\n",
        "\n",
        "**3-Parts of Speech:**\n",
        "\n",
        "Words are organized by parts of speech: nouns, verbs, adjectives, and adverbs. Each part of speech has its own set of synsets and relationships."
      ]
    },
    {
      "cell_type": "markdown",
      "id": "53471f72",
      "metadata": {
        "id": "53471f72"
      },
      "source": [
        "# Example:\n",
        "\n",
        "Here is a sample text\n",
        "\n",
        "\"The cats are running and the dogs are barking loudly.\"\n",
        "\n",
        "1- Tokenize the text into words\n",
        "\n",
        "2- Lemmatize each word and join them back into a sentence\n",
        "\n"
      ]
    },
    {
      "cell_type": "code",
      "execution_count": null,
      "id": "dad571e2",
      "metadata": {
        "id": "dad571e2",
        "colab": {
          "base_uri": "https://localhost:8080/"
        },
        "outputId": "161ea669-cc87-4fc8-8386-827b04ef30ab"
      },
      "outputs": [
        {
          "output_type": "stream",
          "name": "stdout",
          "text": [
            "The cat are running and the dog are barking loudly .\n"
          ]
        }
      ],
      "source": [
        "from nltk.stem import WordNetLemmatizer\n",
        "\n",
        "# Initialize the WordNet lemmatizer\n",
        "lem = WordNetLemmatizer()\n",
        "\n",
        "# Sample text\n",
        "text= \"The cats are running and the dogs are barking loudly.\"\n",
        "\n",
        "\n",
        "# Tokenize the text into words\n",
        "words= word_tokenize(text)\n",
        "\n",
        "# Lemmatize each word and join them back into a sentence\n",
        "\n",
        "lemmatized_text=' '.join([lem.lemmatize(word) for word in words])\n",
        "\n",
        "print(lemmatized_text)"
      ]
    },
    {
      "cell_type": "code",
      "execution_count": null,
      "id": "2d0f82b4",
      "metadata": {
        "id": "2d0f82b4",
        "colab": {
          "base_uri": "https://localhost:8080/"
        },
        "outputId": "7cc815f2-8da8-4da5-9225-0b4c460330d3"
      },
      "outputs": [
        {
          "output_type": "execute_result",
          "data": {
            "text/plain": [
              "['The',\n",
              " 'cat',\n",
              " 'are',\n",
              " 'running',\n",
              " 'and',\n",
              " 'the',\n",
              " 'dog',\n",
              " 'are',\n",
              " 'barking',\n",
              " 'loudly',\n",
              " '.']"
            ]
          },
          "metadata": {},
          "execution_count": 86
        }
      ],
      "source": [
        "lemmatized_words = [lem.lemmatize(word) for word in words]\n",
        "lemmatized_words"
      ]
    },
    {
      "cell_type": "markdown",
      "id": "5772f18e",
      "metadata": {
        "id": "5772f18e"
      },
      "source": [
        "# Example :\n",
        "Remove symbols from text"
      ]
    },
    {
      "cell_type": "code",
      "execution_count": null,
      "id": "7cb1e753",
      "metadata": {
        "id": "7cb1e753",
        "outputId": "f659280b-d480-46bf-8dbf-fa5dfd54955f",
        "colab": {
          "base_uri": "https://localhost:8080/"
        }
      },
      "outputs": [
        {
          "output_type": "execute_result",
          "data": {
            "text/plain": [
              "['hello', 'how', 'are', 'you']"
            ]
          },
          "metadata": {},
          "execution_count": 90
        }
      ],
      "source": [
        "# Here is an example\n",
        "text_3=\"Hello 123 # how $ are you? \"\n",
        "# 1- Lowercase\n",
        "text_3 = text_3.lower()\n",
        " # 2- Tokenize\n",
        "words= word_tokenize(text_3)\n",
        "# 3- Filter text by removing symbols (use isalpha())\n",
        "filtered_text_3 = [w for w in words if w.isalpha()]\n",
        "# 4- display output\n",
        "filtered_text_3"
      ]
    },
    {
      "cell_type": "markdown",
      "id": "4419399f",
      "metadata": {
        "id": "4419399f"
      },
      "source": [
        "## 2-6 Spell checking"
      ]
    },
    {
      "cell_type": "code",
      "execution_count": null,
      "id": "1c28068f",
      "metadata": {
        "id": "1c28068f",
        "outputId": "1d275d9b-ee39-4239-dd10-964691f403f8",
        "colab": {
          "base_uri": "https://localhost:8080/"
        }
      },
      "outputs": [
        {
          "output_type": "stream",
          "name": "stdout",
          "text": [
            "Collecting autocorrect\n",
            "  Downloading autocorrect-2.6.1.tar.gz (622 kB)\n",
            "\u001b[?25l     \u001b[90m━━━━━━━━━━━━━━━━━━━━━━━━━━━━━━━━━━━━━━━━\u001b[0m \u001b[32m0.0/622.8 kB\u001b[0m \u001b[31m?\u001b[0m eta \u001b[36m-:--:--\u001b[0m\r\u001b[2K     \u001b[90m━━━━━━━━━━━━━━━━━━━━━━━━━━━━━━━━━━━━━━━━\u001b[0m \u001b[32m622.8/622.8 kB\u001b[0m \u001b[31m27.6 MB/s\u001b[0m eta \u001b[36m0:00:00\u001b[0m\n",
            "\u001b[?25h  Preparing metadata (setup.py) ... \u001b[?25l\u001b[?25hdone\n",
            "Building wheels for collected packages: autocorrect\n",
            "  Building wheel for autocorrect (setup.py) ... \u001b[?25l\u001b[?25hdone\n",
            "  Created wheel for autocorrect: filename=autocorrect-2.6.1-py3-none-any.whl size=622364 sha256=5b7e9a3faf5014f3dffc1173c5f7509518a0df8f87c2027d9bd9c4fc7e116947\n",
            "  Stored in directory: /root/.cache/pip/wheels/b5/7b/6d/b76b29ce11ff8e2521c8c7dd0e5bfee4fb1789d76193124343\n",
            "Successfully built autocorrect\n",
            "Installing collected packages: autocorrect\n",
            "Successfully installed autocorrect-2.6.1\n"
          ]
        }
      ],
      "source": [
        "pip install autocorrect"
      ]
    },
    {
      "cell_type": "code",
      "execution_count": null,
      "id": "63f92048",
      "metadata": {
        "id": "63f92048",
        "outputId": "3e397b21-7433-4cb7-f0cb-d132a117712a",
        "colab": {
          "base_uri": "https://localhost:8080/",
          "height": 36
        }
      },
      "outputs": [
        {
          "output_type": "execute_result",
          "data": {
            "text/plain": [
              "'This world is magical'"
            ],
            "application/vnd.google.colaboratory.intrinsic+json": {
              "type": "string"
            }
          },
          "metadata": {},
          "execution_count": 100
        }
      ],
      "source": [
        "# spell checker using class Speller #spell pour corriger # tu fais l'entrer ton rapport par exemple :) ! yarjaa lel dictionnaire\n",
        "from autocorrect import Speller\n",
        "spell = Speller(lang= 'en')\n",
        "text_4= \"This wrld is magcal\"\n",
        "tokens= word_tokenize(text_4)\n",
        "correct_text = ' '.join([spell(w) for w in tokens])\n",
        "correct_text"
      ]
    },
    {
      "cell_type": "markdown",
      "id": "6c5b886e",
      "metadata": {
        "id": "6c5b886e"
      },
      "source": [
        "## 3- Exercice:"
      ]
    },
    {
      "cell_type": "markdown",
      "id": "cdbe5314",
      "metadata": {
        "id": "cdbe5314"
      },
      "source": [
        "#### case study:\n",
        "\n",
        "Create a function named *preprocessing* that reads the \"pride_and_prejudice.txt\" file and performs the standard preprocessing steps."
      ]
    },
    {
      "cell_type": "code",
      "execution_count": null,
      "id": "da389b3a",
      "metadata": {
        "id": "da389b3a",
        "colab": {
          "base_uri": "https://localhost:8080/"
        },
        "outputId": "526d16f3-e9c0-4b93-8650-344c6f891aa5"
      },
      "outputs": [
        {
          "output_type": "stream",
          "name": "stderr",
          "text": [
            "[nltk_data] Downloading package punkt to /root/nltk_data...\n",
            "[nltk_data]   Package punkt is already up-to-date!\n",
            "[nltk_data] Downloading package stopwords to /root/nltk_data...\n",
            "[nltk_data]   Package stopwords is already up-to-date!\n"
          ]
        },
        {
          "output_type": "stream",
          "name": "stdout",
          "text": [
            "['barron', 'book', 'note', 'jane', 'austen', 'pride', 'prejudic', 'jane', 'austen', 'author', 'time', 'jane', 'austen', 'countri', 'parson', 'daughter', 'live', 'life', 'tini', 'english', 'villag', 'began', 'write', 'first', 'novel', 'sens', 'sensibl', 'still', 'late', 'teen', 'wrote', 'origin', 'version', 'second', 'famou', 'novel', 'pride', 'prejudic', 'origin', 'entitl', 'first', 'impress', 'yet', 'twentyon', 'time', 'never', 'away', 'home', 'except', 'year']\n"
          ]
        }
      ],
      "source": [
        "def preprocessing(filename):\n",
        "  f= open(filename, encoding=\"utf8\")\n",
        "  text= f.read()\n",
        "  text_l= text.lower()\n",
        "  tokens = nltk.word_tokenize(text_l)\n",
        "  filetered_tokens = [word for word in tokens if word.isalpha()]\n",
        "  stopw_text = [w for w in filetered_tokens if w not in spw]\n",
        "  return stopw_text\n",
        "file_path = \"/content/PrideandPrejudice.txt\"\n",
        "processed_words = preprocessing(file_path)\n",
        "\n"
      ]
    },
    {
      "cell_type": "code",
      "execution_count": null,
      "id": "f6073181",
      "metadata": {
        "scrolled": true,
        "id": "f6073181"
      },
      "outputs": [],
      "source": []
    },
    {
      "cell_type": "code",
      "execution_count": null,
      "id": "1926de7b",
      "metadata": {
        "id": "1926de7b"
      },
      "outputs": [],
      "source": []
    },
    {
      "cell_type": "markdown",
      "id": "6d5e47f6",
      "metadata": {
        "id": "6d5e47f6"
      },
      "source": [
        "![image.png](attachment:image.png)"
      ]
    }
  ],
  "metadata": {
    "kernelspec": {
      "display_name": "Python 3 (ipykernel)",
      "language": "python",
      "name": "python3"
    },
    "language_info": {
      "codemirror_mode": {
        "name": "ipython",
        "version": 3
      },
      "file_extension": ".py",
      "mimetype": "text/x-python",
      "name": "python",
      "nbconvert_exporter": "python",
      "pygments_lexer": "ipython3",
      "version": "3.11.5"
    },
    "colab": {
      "provenance": []
    }
  },
  "nbformat": 4,
  "nbformat_minor": 5
}