{
  "cells": [
    {
      "cell_type": "markdown",
      "id": "b3c989ba",
      "metadata": {
        "id": "b3c989ba"
      },
      "source": [
        "\n",
        "   # Chapter 4- Part I: Guided Project- Sentiment Analysis on tweets\n",
        "\n",
        "<img src=\"https://user-images.githubusercontent.com/7065401/55025843-7d99a280-4fe0-11e9-938a-4879d95c4130.png\"\n",
        "    style=\"width:150px; float: right; margin: 0 40px 40px 40px;\"></img>\n",
        "    \n",
        "<img src=\"https://www.searchenginejournal.com/wp-content/uploads/2020/08/an-introduction-to-natural-language-processing-with-python-for-seos-5f3519eeb8368-1520x800.webp\" style=\"width:300px; float: left; margin: 0 40px 40px 40px;\"></img>\n",
        "\n",
        "    \n",
        "\n",
        "\n",
        "![purple-divider](https://user-images.githubusercontent.com/7065401/52071927-c1cd7100-2562-11e9-908a-dde91ba14e59.png)"
      ]
    },
    {
      "cell_type": "markdown",
      "id": "4adcb50f",
      "metadata": {
        "id": "4adcb50f"
      },
      "source": [
        "# Part I: Preprocessing for Sentiment Analysis"
      ]
    },
    {
      "cell_type": "markdown",
      "id": "6c8afaed",
      "metadata": {
        "id": "6c8afaed"
      },
      "source": [
        "# I- Introduction\n",
        "\n",
        "We will be exploring how to preprocess tweets for sentiment analysis. We will see how to use the [NLTK](http://www.nltk.org) package to perform a preprocessing pipeline for Twitter datasets."
      ]
    },
    {
      "cell_type": "markdown",
      "id": "a2611938",
      "metadata": {
        "id": "a2611938"
      },
      "source": [
        "## II- Setup\n",
        "\n",
        "You will be doing sentiment analysis on tweets.\n",
        "You will be using the [Natural Language Toolkit (NLTK)] package. It has modules for collecting, handling, and processing Twitter data.\n",
        "\n",
        "See this page for more info (http://www.nltk.org/howto/twitter.html)\n",
        "\n",
        "For this Guided Project, we will use a Twitter dataset that comes with NLTK. This dataset has been manually annotated and serves to establish baselines for models quickly. Let us import them now as well as a few other libraries we will be using."
      ]
    },
    {
      "cell_type": "code",
      "execution_count": null,
      "id": "df8638eb",
      "metadata": {
        "id": "df8638eb"
      },
      "outputs": [],
      "source": [
        "import nltk                                # Python library for NLP\n",
        "from nltk.corpus import twitter_samples    # sample Twitter dataset from NLTK\n",
        "import matplotlib.pyplot as plt            # library for visualization\n",
        "import random                              # pseudo-random number generator"
      ]
    },
    {
      "cell_type": "markdown",
      "id": "e90ccabe",
      "metadata": {
        "id": "e90ccabe"
      },
      "source": [
        "## III- About the Twitter dataset\n",
        "\n",
        "The sample dataset from NLTK is separated into positive and negative tweets. It contains 5000 positive tweets and 5000 negative tweets exactly. The exact match between these classes is not a coincidence. The intention is to have a **balanced dataset**. That does not reflect the real distributions of positive and negative classes in live Twitter streams. It is just because balanced datasets simplify the design of most computational methods that are required for sentiment analysis. However, it is better to be aware that this balance of classes is **artificial**.\n"
      ]
    },
    {
      "cell_type": "code",
      "execution_count": null,
      "id": "98d866e2",
      "metadata": {
        "id": "98d866e2",
        "outputId": "ce5b1ddd-951f-43db-a5d1-844f684d46df",
        "colab": {
          "base_uri": "https://localhost:8080/"
        }
      },
      "outputs": [
        {
          "output_type": "stream",
          "name": "stderr",
          "text": [
            "[nltk_data] Downloading package twitter_samples to /root/nltk_data...\n",
            "[nltk_data]   Unzipping corpora/twitter_samples.zip.\n"
          ]
        },
        {
          "output_type": "execute_result",
          "data": {
            "text/plain": [
              "True"
            ]
          },
          "metadata": {},
          "execution_count": 3
        }
      ],
      "source": [
        "# downloads sample twitter dataset.\n",
        "nltk.download('twitter_samples')"
      ]
    },
    {
      "cell_type": "markdown",
      "id": "f7588270",
      "metadata": {
        "id": "f7588270"
      },
      "source": [
        "**Using a Tweet Corpus**:\n",
        "NLTK's Twitter corpus currently contains a sample of 20k Tweets (named 'twitter_samples') retrieved from the Twitter Streaming API, together with another 10k which are divided according to sentiment into negative and positive."
      ]
    },
    {
      "cell_type": "code",
      "execution_count": null,
      "id": "2d15178c",
      "metadata": {
        "scrolled": true,
        "id": "2d15178c",
        "outputId": "11368b0f-7411-41dd-a68e-db461d95a451",
        "colab": {
          "base_uri": "https://localhost:8080/"
        }
      },
      "outputs": [
        {
          "output_type": "execute_result",
          "data": {
            "text/plain": [
              "['negative_tweets.json', 'positive_tweets.json', 'tweets.20150430-223406.json']"
            ]
          },
          "metadata": {},
          "execution_count": 4
        }
      ],
      "source": [
        "twitter_samples.fileids()"
      ]
    },
    {
      "cell_type": "markdown",
      "id": "9edab66f",
      "metadata": {
        "id": "9edab66f"
      },
      "source": [
        "💡 JSON (JavaScript Object Notation) is a lightweight data interchange format that is easy for humans to read and write and easy for machines to parse and generate. It is often used to transmit data between a server and a web application as an alternative to XML."
      ]
    },
    {
      "cell_type": "markdown",
      "id": "ec158134",
      "metadata": {
        "id": "ec158134"
      },
      "source": [
        "We follow standard practice in storing full Tweets as line-separated JSON. These data structures can be accessed via tweets.docs(). However, in general it is more practical to focus just on the text field of the Tweets, which are accessed via the strings() method."
      ]
    },
    {
      "cell_type": "markdown",
      "id": "e3eea64f",
      "metadata": {
        "id": "e3eea64f"
      },
      "source": [
        "**Task**: Load the text fields of the positive and negative tweets by using the module's `strings()` method:"
      ]
    },
    {
      "cell_type": "code",
      "execution_count": null,
      "id": "e6ff4ac6",
      "metadata": {
        "id": "e6ff4ac6"
      },
      "outputs": [],
      "source": [
        "# select the set of positive and negative tweets\n",
        "all_positive_tweets = twitter_samples.strings('positive_tweets.json')\n",
        "all_negative_tweets = twitter_samples.strings('negative_tweets.json')"
      ]
    },
    {
      "cell_type": "markdown",
      "id": "c8f0313c",
      "metadata": {
        "id": "c8f0313c"
      },
      "source": [
        "**Task**: Next, we'll print a report with the number of positive and negative tweets. It is also essential to know the data structure of the datasets"
      ]
    },
    {
      "cell_type": "code",
      "execution_count": null,
      "id": "53bc59cf",
      "metadata": {
        "scrolled": true,
        "id": "53bc59cf",
        "outputId": "d32593d9-19e6-487e-fa4e-822b19495563",
        "colab": {
          "base_uri": "https://localhost:8080/"
        }
      },
      "outputs": [
        {
          "output_type": "stream",
          "name": "stdout",
          "text": [
            "Number of positive tweets:  5000\n",
            "Number of negative tweets:  5000\n"
          ]
        }
      ],
      "source": [
        "print('Number of positive tweets: ', len(all_positive_tweets))\n",
        "print('Number of negative tweets: ', len(all_negative_tweets))\n"
      ]
    },
    {
      "cell_type": "code",
      "execution_count": null,
      "id": "b900a2de",
      "metadata": {
        "id": "b900a2de",
        "outputId": "3481eb61-8da4-409a-bf77-6376021c1e36",
        "colab": {
          "base_uri": "https://localhost:8080/"
        }
      },
      "outputs": [
        {
          "output_type": "stream",
          "name": "stdout",
          "text": [
            "The type of all_positive_tweets is:  <class 'list'>\n",
            "The type of a tweet entry is:  <class 'str'>\n"
          ]
        }
      ],
      "source": [
        "# Let's see the data structure of the datasets\n",
        "\n",
        "print('The type of all_positive_tweets is: ', type(all_positive_tweets))\n",
        "print('The type of a tweet entry is: ', type(all_negative_tweets[0]))"
      ]
    },
    {
      "cell_type": "markdown",
      "id": "66692066",
      "metadata": {
        "id": "66692066"
      },
      "source": [
        "### Visualization of Raw data"
      ]
    },
    {
      "cell_type": "markdown",
      "id": "2a325087",
      "metadata": {
        "id": "2a325087"
      },
      "source": [
        "We can see that the data is stored in a list and as you might expect, individual tweets are stored as strings.\n",
        "\n",
        "You can make a more visually appealing report by using Matplotlib's [pyplot](https://matplotlib.org/tutorials/introductory/pyplot.html) library.\n",
        "\n",
        "**Task**: Create a [pie chart](https://matplotlib.org/3.2.1/gallery/pie_and_polar_charts/pie_features.html#sphx-glr-gallery-pie-and-polar-charts-pie-features-py) to show the same information as above. This simple snippet will serve you in future visualizations of this kind of data."
      ]
    },
    {
      "cell_type": "code",
      "execution_count": null,
      "id": "c187521d",
      "metadata": {
        "id": "c187521d",
        "outputId": "866cfd6e-7620-49b8-c388-bdebcf18447f",
        "colab": {
          "base_uri": "https://localhost:8080/",
          "height": 422
        }
      },
      "outputs": [
        {
          "output_type": "display_data",
          "data": {
            "text/plain": [
              "<Figure size 500x500 with 1 Axes>"
            ],
            "image/png": "[encoded data removed]"
          },
          "metadata": {}
        }
      ],
      "source": [
        "# Declare a figure with a custom size\n",
        "fig = plt.figure(figsize=(5, 5))\n",
        "\n",
        "# labels for the two classes\n",
        "labels = \"Positive\", \"Negative\"\n",
        "\n",
        "# Sizes for each slide\n",
        "sizes = [len(all_positive_tweets), len(all_negative_tweets)]\n",
        "\n",
        "# Declare pie chart, where the slices will be ordered and plotted counter-clockwise:\n",
        "plt.pie(sizes, labels=labels, autopct='%1.1f%%',\n",
        "        shadow=True, startangle=90)\n",
        "\n",
        "# Equal aspect ratio ensures that pie is drawn as a circle.\n",
        "plt.axis('equal')\n",
        "\n",
        "# Display the chart\n",
        "plt.show()"
      ]
    },
    {
      "cell_type": "markdown",
      "id": "8db5ed9b",
      "metadata": {
        "id": "8db5ed9b"
      },
      "source": [
        "### Let's look at an example of raw texts\n",
        "\n",
        "Before anything else, we can print a couple of tweets from the dataset to see how they look. Understanding the data is responsible for 80% of the success or failure in data science projects. We can use this time to observe aspects we'd like to consider when preprocessing our data.\n",
        "\n",
        "Below, you will print one random positive and one random negative tweet. We have added a color mark at the beginning of the string to further distinguish the two. (Warning: This is taken from a public dataset of real tweets and a very small portion has explicit content.)"
      ]
    },
    {
      "cell_type": "code",
      "execution_count": null,
      "id": "24fadd3a",
      "metadata": {
        "id": "24fadd3a",
        "outputId": "28f3c1bc-7f3e-4cbe-9969-49b62cd4cdf8",
        "colab": {
          "base_uri": "https://localhost:8080/"
        }
      },
      "outputs": [
        {
          "output_type": "stream",
          "name": "stdout",
          "text": [
            "\u001b[92m@BhaktisBanter @PallaviRuhail This one is irresistible :)\n",
            "#FlipkartFashionFriday http://t.co/9J0oceCxIr\n",
            "\u001b[91m@st3cav @MCFC @sterling31 @YayaToure True, deosn't help that Liverpool were here last week, most have never been to Pool though :(\n"
          ]
        }
      ],
      "source": [
        "# print positive in greeen('\\033[92m')\n",
        "print('\\033[92m' + all_positive_tweets[random.randint(0,4999)] )\n",
        "\n",
        "# print negative in red ('\\033[91m')\n",
        "print('\\033[91m' + all_negative_tweets[random.randint(0,4999)] )"
      ]
    },
    {
      "cell_type": "markdown",
      "id": "6c2f676f",
      "metadata": {
        "id": "6c2f676f"
      },
      "source": [
        "\n",
        "---"
      ]
    },
    {
      "cell_type": "markdown",
      "id": "77ac87a6",
      "metadata": {
        "id": "77ac87a6"
      },
      "source": [
        "**Remark**: ANSI escape codes are a set of control sequences used to format text and control cursor behavior in terminal and console-based applications. Here are some examples:"
      ]
    },
    {
      "cell_type": "code",
      "execution_count": null,
      "id": "f28494c4",
      "metadata": {
        "scrolled": true,
        "id": "f28494c4",
        "outputId": "fd433290-bebd-430a-ad49-be84da5d728d",
        "colab": {
          "base_uri": "https://localhost:8080/"
        }
      },
      "outputs": [
        {
          "output_type": "stream",
          "name": "stdout",
          "text": [
            "\u001b[1mThis text is bold\u001b[0m\n",
            "\u001b[91mThis text is red\u001b[0m\n"
          ]
        }
      ],
      "source": [
        "# Remark : another syntax\n",
        "# print bold\n",
        "print(\"\\033[1mThis text is bold\\033[0m\")\n",
        "# print red\n",
        "print(\"\\033[91mThis text is red\\033[0m\")\n",
        "\n"
      ]
    },
    {
      "cell_type": "markdown",
      "id": "3ff7dd3f",
      "metadata": {
        "id": "3ff7dd3f"
      },
      "source": [
        "<hr>\n"
      ]
    },
    {
      "cell_type": "markdown",
      "id": "debba877",
      "metadata": {
        "id": "debba877"
      },
      "source": [
        "One observation you may have is the presence of [emoticons](https://en.wikipedia.org/wiki/Emoticon) and URLs in many of the tweets. This info will come in handy in the next steps."
      ]
    },
    {
      "cell_type": "markdown",
      "id": "d10036be",
      "metadata": {
        "id": "d10036be"
      },
      "source": [
        "## VI- Preprocess raw text for Sentiment analysis"
      ]
    },
    {
      "cell_type": "markdown",
      "id": "10383e0d",
      "metadata": {
        "id": "10383e0d"
      },
      "source": [
        "We've talked in chapter 3 (part 1) about the important of preprocessing techniques such that:\n",
        "* Tokenizing the string\n",
        "* Lowercasing\n",
        "* Removing stop words and punctuation\n",
        "* Stemming\n",
        "\n",
        "Let's see how we can do these to a given tweet. We will choose just one and see how this is transformed by each preprocessing step."
      ]
    },
    {
      "cell_type": "code",
      "execution_count": null,
      "id": "c847d6ee",
      "metadata": {
        "id": "c847d6ee",
        "outputId": "9a770ded-a637-44f1-978b-5fb5b0c9e93c",
        "colab": {
          "base_uri": "https://localhost:8080/"
        }
      },
      "outputs": [
        {
          "output_type": "stream",
          "name": "stdout",
          "text": [
            "My beautiful sunflowers on a sunny Friday morning off :) #sunflowers #favourites #happy #Friday off… https://t.co/3tfYom0N1i\n"
          ]
        }
      ],
      "source": [
        "# Our selected sample. Complex enough to exemplify each step\n",
        "tweet = all_positive_tweets[2277]\n",
        "print(tweet)"
      ]
    },
    {
      "cell_type": "markdown",
      "id": "e8dd8e24",
      "metadata": {
        "id": "e8dd8e24"
      },
      "source": []
    },
    {
      "cell_type": "code",
      "execution_count": null,
      "id": "5b5be04e",
      "metadata": {
        "id": "5b5be04e",
        "outputId": "446eb519-8846-45bc-b1a4-c1914dc62bf0",
        "colab": {
          "base_uri": "https://localhost:8080/"
        }
      },
      "outputs": [
        {
          "output_type": "stream",
          "name": "stderr",
          "text": [
            "[nltk_data] Downloading package stopwords to /root/nltk_data...\n",
            "[nltk_data]   Unzipping corpora/stopwords.zip.\n"
          ]
        },
        {
          "output_type": "execute_result",
          "data": {
            "text/plain": [
              "True"
            ]
          },
          "metadata": {},
          "execution_count": 15
        }
      ],
      "source": [
        "# if not already done download the stopwords from NLTK\n",
        "nltk.download('stopwords')"
      ]
    },
    {
      "cell_type": "code",
      "execution_count": null,
      "id": "54a462f4",
      "metadata": {
        "id": "54a462f4"
      },
      "outputs": [],
      "source": [
        "import re                                  # library for regular expression operations\n",
        "import string                              # for string operations\n",
        "\n",
        "from nltk.corpus import stopwords          # module for stop words that come with NLTK\n",
        "from nltk.stem import PorterStemmer        # module for stemming\n",
        "from nltk.tokenize import TweetTokenizer   # module for tokenizing strings"
      ]
    },
    {
      "cell_type": "markdown",
      "id": "28a80c36",
      "metadata": {
        "id": "28a80c36"
      },
      "source": [
        "### Remove hyperlinks,  Twitter marks and styles\n",
        "\n",
        "Since we have a Twitter dataset, we'd like to remove some substrings commonly used on the platform like the hashtag, retweet marks, and hyperlinks. We'll use the [re](https://docs.python.org/3/library/re.html) library to perform regular expression operations on our tweet. We'll define our search pattern and use the `sub()` method to remove matches by substituting with an empty character (i.e. `''`)"
      ]
    },
    {
      "cell_type": "code",
      "execution_count": null,
      "id": "0e468d03",
      "metadata": {
        "scrolled": true,
        "id": "0e468d03",
        "outputId": "74363c00-74de-4c9f-cd08-62678062be9a",
        "colab": {
          "base_uri": "https://localhost:8080/"
        }
      },
      "outputs": [
        {
          "output_type": "stream",
          "name": "stdout",
          "text": [
            "\u001b[92mMy beautiful sunflowers on a sunny Friday morning off :) #sunflowers #favourites #happy #Friday off… https://t.co/3tfYom0N1i\n",
            "\u001b[94m\n",
            "My beautiful sunflowers on a sunny Friday morning off :) sunflowers favourites happy Friday off… \n"
          ]
        }
      ],
      "source": [
        "print('\\033[92m' + tweet)\n",
        "print('\\033[94m')\n",
        "\n",
        "# remove old style retweet text \"RT\" (r'^RT[\\s]+')\n",
        "tweet2= re.sub(r'^RT[\\s]+','',tweet)\n",
        "\n",
        "# remove hyperlinks (r'https?://[^\\s\\n\\r]+')\n",
        "tweet2= re.sub(r'https?://[^\\s\\n\\r]+','', tweet2)\n",
        "\n",
        "# remove hashtags\n",
        "# only removing the hash # sign from the word\n",
        "tweet2= re.sub(r'#','', tweet2)\n",
        "\n",
        "print(tweet2)"
      ]
    },
    {
      "cell_type": "markdown",
      "id": "d4d7cf98",
      "metadata": {
        "id": "d4d7cf98"
      },
      "source": [
        "### Tokenize the string\n",
        "\n",
        "To tokenize means to split the strings into individual words without blanks or tabs. In this same step, we will also convert each word in the string to lower case. The [tokenize](https://www.nltk.org/api/nltk.tokenize.html#module-nltk.tokenize.casual) module from NLTK allows us to do these easily:"
      ]
    },
    {
      "cell_type": "code",
      "execution_count": null,
      "id": "d1c3ab20",
      "metadata": {
        "id": "d1c3ab20",
        "outputId": "b886a0d8-8707-4c1e-ca3e-293b304dce6e",
        "colab": {
          "base_uri": "https://localhost:8080/"
        }
      },
      "outputs": [
        {
          "output_type": "stream",
          "name": "stdout",
          "text": [
            "\n",
            "\u001b[92mMy beautiful sunflowers on a sunny Friday morning off :) sunflowers favourites happy Friday off… \n",
            "\u001b[94m\n",
            "\n",
            "Tokenized string:\n",
            "['my', 'beautiful', 'sunflowers', 'on', 'a', 'sunny', 'friday', 'morning', 'off', ':)', 'sunflowers', 'favourites', 'happy', 'friday', 'off', '…']\n"
          ]
        }
      ],
      "source": [
        "print()\n",
        "print('\\033[92m' + tweet2)\n",
        "print('\\033[94m')\n",
        "\n",
        "# instantiate tokenizer class: TweetTokenizer\n",
        "tokenizer = TweetTokenizer(preserve_case=False, strip_handles = True,reduce_len=True )\n",
        "\n",
        "# tokenize tweets\n",
        "tweet_tokens = tokenizer.tokenize(tweet2)\n",
        "\n",
        "print()\n",
        "print('Tokenized string:')\n",
        "print(tweet_tokens)"
      ]
    },
    {
      "cell_type": "markdown",
      "id": "49ede239",
      "metadata": {
        "id": "49ede239"
      },
      "source": [
        "### Remove stop words and punctuations\n",
        "\n",
        "The next step is to remove stop words and punctuation. Stop words are words that don't add significant meaning to the text. You'll see the list provided by NLTK when you run the cells below."
      ]
    },
    {
      "cell_type": "code",
      "execution_count": null,
      "id": "ebe06689",
      "metadata": {
        "id": "ebe06689",
        "outputId": "464ceda2-bff6-472f-f0d9-2dca8fccc0a9",
        "colab": {
          "base_uri": "https://localhost:8080/"
        }
      },
      "outputs": [
        {
          "output_type": "stream",
          "name": "stdout",
          "text": [
            "Stop words\n",
            "\n",
            "['i', 'me', 'my', 'myself', 'we', 'our', 'ours', 'ourselves', 'you', \"you're\", \"you've\", \"you'll\", \"you'd\", 'your', 'yours', 'yourself', 'yourselves', 'he', 'him', 'his', 'himself', 'she', \"she's\", 'her', 'hers', 'herself', 'it', \"it's\", 'its', 'itself', 'they', 'them', 'their', 'theirs', 'themselves', 'what', 'which', 'who', 'whom', 'this', 'that', \"that'll\", 'these', 'those', 'am', 'is', 'are', 'was', 'were', 'be', 'been', 'being', 'have', 'has', 'had', 'having', 'do', 'does', 'did', 'doing', 'a', 'an', 'the', 'and', 'but', 'if', 'or', 'because', 'as', 'until', 'while', 'of', 'at', 'by', 'for', 'with', 'about', 'against', 'between', 'into', 'through', 'during', 'before', 'after', 'above', 'below', 'to', 'from', 'up', 'down', 'in', 'out', 'on', 'off', 'over', 'under', 'again', 'further', 'then', 'once', 'here', 'there', 'when', 'where', 'why', 'how', 'all', 'any', 'both', 'each', 'few', 'more', 'most', 'other', 'some', 'such', 'no', 'nor', 'not', 'only', 'own', 'same', 'so', 'than', 'too', 'very', 's', 't', 'can', 'will', 'just', 'don', \"don't\", 'should', \"should've\", 'now', 'd', 'll', 'm', 'o', 're', 've', 'y', 'ain', 'aren', \"aren't\", 'couldn', \"couldn't\", 'didn', \"didn't\", 'doesn', \"doesn't\", 'hadn', \"hadn't\", 'hasn', \"hasn't\", 'haven', \"haven't\", 'isn', \"isn't\", 'ma', 'mightn', \"mightn't\", 'mustn', \"mustn't\", 'needn', \"needn't\", 'shan', \"shan't\", 'shouldn', \"shouldn't\", 'wasn', \"wasn't\", 'weren', \"weren't\", 'won', \"won't\", 'wouldn', \"wouldn't\"]\n",
            "\n",
            "Punctuation\n",
            "\n",
            "!\"#$%&'()*+,-./:;<=>?@[\\]^_`{|}~\n"
          ]
        }
      ],
      "source": [
        "#Import the english stop words list from NLTK\n",
        "stopwords_english = stopwords.words('english')\n",
        "\n",
        "print('Stop words\\n')\n",
        "print(stopwords_english)\n",
        "\n",
        "\n",
        "print('\\nPunctuation\\n')\n",
        "print(string.punctuation)"
      ]
    },
    {
      "cell_type": "markdown",
      "id": "e824dada",
      "metadata": {
        "id": "e824dada"
      },
      "source": [
        "We can see that the stop words list above contains some words that could be important in some contexts.\n",
        "These could be words like _i, not, between, because, won, against_. You might need to customize the stop words list for some applications. For our exercise, we will use the entire list.\n",
        "\n",
        "For the punctuation, we saw earlier that certain groupings like ':)' and '...'  should be retained when dealing with tweets because they are used to express emotions. In other contexts, like medical analysis, these should also be removed.\n",
        "\n",
        "**Task:** Time to clean up our tokenized tweet!"
      ]
    },
    {
      "cell_type": "code",
      "execution_count": null,
      "id": "873fd93a",
      "metadata": {
        "id": "873fd93a",
        "outputId": "5f3ac329-d6b3-44f1-c109-ef9b19b8aed7",
        "colab": {
          "base_uri": "https://localhost:8080/"
        }
      },
      "outputs": [
        {
          "output_type": "stream",
          "name": "stdout",
          "text": [
            "\n",
            "\u001b[92m\n",
            "['my', 'beautiful', 'sunflowers', 'on', 'a', 'sunny', 'friday', 'morning', 'off', ':)', 'sunflowers', 'favourites', 'happy', 'friday', 'off', '…']\n",
            "\u001b[94m\n",
            "removed stop words and punctuation:\n",
            "['beautiful', 'sunflowers', 'sunny', 'friday', 'morning', ':)', 'sunflowers', 'favourites', 'happy', 'friday', '…']\n"
          ]
        }
      ],
      "source": [
        "print()\n",
        "print('\\033[92m')\n",
        "print(tweet_tokens)\n",
        "print('\\033[94m')\n",
        "\n",
        "tweets_clean = [t for t in tweet_tokens if t not in (stopwords_english) and t not in (string.punctuation)]\n",
        "\n",
        "\n",
        "\n",
        "print('removed stop words and punctuation:')\n",
        "print(tweets_clean)"
      ]
    },
    {
      "cell_type": "markdown",
      "id": "bc96d854",
      "metadata": {
        "id": "bc96d854"
      },
      "source": [
        "Please note that the words **happy** and **sunny** in this list are correctly spelled."
      ]
    },
    {
      "cell_type": "markdown",
      "id": "8fcc3865",
      "metadata": {
        "id": "8fcc3865"
      },
      "source": [
        "### Stemming\n",
        "\n",
        "Remember that in some cases, the stemming process produces words that are not correct spellings of the root word. For example, **happi** and **sunni**. That's because it chooses the most common stem for related words. For example, we can look at the set of words that comprises the different forms of happy:\n",
        "\n",
        " * **happ**y\n",
        " * **happi**ness\n",
        " * **happi**er\n",
        "\n",
        "We can see that the prefix **happi** is more commonly used. We cannot choose **happ** because it is the stem of unrelated words like **happen**."
      ]
    },
    {
      "cell_type": "code",
      "execution_count": null,
      "id": "16b9b11f",
      "metadata": {
        "id": "16b9b11f",
        "outputId": "b90fd8a8-03a3-44e8-f7b8-7c007c346082"
      },
      "outputs": [
        {
          "name": "stdout",
          "output_type": "stream",
          "text": [
            "\n",
            "\u001b[92m\n"
          ]
        },
        {
          "ename": "NameError",
          "evalue": "name 'tweets_clean' is not defined",
          "output_type": "error",
          "traceback": [
            "\u001b[1;31m---------------------------------------------------------------------------\u001b[0m",
            "\u001b[1;31mNameError\u001b[0m                                 Traceback (most recent call last)",
            "Cell \u001b[1;32mIn[1], line 3\u001b[0m\n\u001b[0;32m      1\u001b[0m \u001b[38;5;28mprint\u001b[39m()\n\u001b[0;32m      2\u001b[0m \u001b[38;5;28mprint\u001b[39m(\u001b[38;5;124m'\u001b[39m\u001b[38;5;130;01m\\033\u001b[39;00m\u001b[38;5;124m[92m\u001b[39m\u001b[38;5;124m'\u001b[39m)\n\u001b[1;32m----> 3\u001b[0m \u001b[38;5;28mprint\u001b[39m(tweets_clean)\n\u001b[0;32m      4\u001b[0m \u001b[38;5;28mprint\u001b[39m(\u001b[38;5;124m'\u001b[39m\u001b[38;5;130;01m\\033\u001b[39;00m\u001b[38;5;124m[94m\u001b[39m\u001b[38;5;124m'\u001b[39m)\n\u001b[0;32m      6\u001b[0m \u001b[38;5;66;03m# Instantiate stemming class\u001b[39;00m\n",
            "\u001b[1;31mNameError\u001b[0m: name 'tweets_clean' is not defined"
          ]
        }
      ],
      "source": [
        "print()\n",
        "print('\\033[92m')\n",
        "print(tweets_clean)\n",
        "print('\\033[94m')\n",
        "\n",
        "# Instantiate stemming class\n",
        "stemmer = PorterStemmer()\n",
        "\n",
        "# Create an empty list to store the stems\n",
        "\n",
        "\n",
        "tweets_stem = []\n",
        "for w in tweets_clean:\n",
        "    stem_words=stemmer.stem(w)\n",
        "    tweets_stem.append(stem_words)\n",
        "\n",
        "\n",
        "print('stemmed words:')\n",
        "print(tweets_stem)"
      ]
    },
    {
      "cell_type": "markdown",
      "id": "79c01428",
      "metadata": {
        "id": "79c01428"
      },
      "source": [
        "That's it! Now we have a set of words we can feed into to the next stage of our machine learning project."
      ]
    },
    {
      "cell_type": "markdown",
      "id": "65751c7e",
      "metadata": {
        "id": "65751c7e"
      },
      "source": [
        "## process_tweet()\n",
        "\n",
        "With chapter 4 part II (about modeling), you will use the function `process_tweet(tweet)` available in _utils.py_.\n",
        "\n",
        "To obtain the same result as in the previous code cells, you will only need to call the function `process_tweet()`. Let's do that in the next cell."
      ]
    },
    {
      "cell_type": "code",
      "execution_count": null,
      "id": "dcb7504c",
      "metadata": {
        "scrolled": true,
        "id": "dcb7504c",
        "outputId": "b98ee9f2-6b4a-4db7-988e-bf6ba4e77e28"
      },
      "outputs": [
        {
          "name": "stdout",
          "output_type": "stream",
          "text": [
            "\n",
            "\u001b[92m\n",
            "My beautiful sunflowers on a sunny Friday morning off :) #sunflowers #favourites #happy #Friday off… https://t.co/3tfYom0N1i\n",
            "\u001b[94m\n",
            "preprocessed tweet:\n",
            "['beauti', 'sunflow', 'sunni', 'friday', 'morn', ':)', 'sunflow', 'favourit', 'happi', 'friday', '…']\n"
          ]
        }
      ],
      "source": [
        "from utils import process_tweet # Import the process_tweet function\n",
        "\n",
        "# choose the same tweet\n",
        "tweet = all_positive_tweets[2277]\n",
        "\n",
        "print()\n",
        "print('\\033[92m')\n",
        "print(tweet)\n",
        "print('\\033[94m')\n",
        "\n",
        "# call the imported function\n",
        "tweets_stem=process_tweet(tweet)\n",
        "\n",
        "print('preprocessed tweet:')\n",
        "print(tweets_stem) # Print the result"
      ]
    },
    {
      "cell_type": "markdown",
      "id": "5ab4de26",
      "metadata": {
        "id": "5ab4de26"
      },
      "source": [
        "That's it for this lab! You now know what is going on when you call the preprocessing helper function. Hopefully, this exercise has also given you some insights on how to tweak this for other types of text datasets."
      ]
    }
  ],
  "metadata": {
    "kernelspec": {
      "display_name": "Python 3 (ipykernel)",
      "language": "python",
      "name": "python3"
    },
    "language_info": {
      "codemirror_mode": {
        "name": "ipython",
        "version": 3
      },
      "file_extension": ".py",
      "mimetype": "text/x-python",
      "name": "python",
      "nbconvert_exporter": "python",
      "pygments_lexer": "ipython3",
      "version": "3.11.5"
    },
    "colab": {
      "provenance": []
    }
  },
  "nbformat": 4,
  "nbformat_minor": 5
}